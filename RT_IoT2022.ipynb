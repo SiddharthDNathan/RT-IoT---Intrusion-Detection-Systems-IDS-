{
  "nbformat": 4,
  "nbformat_minor": 0,
  "metadata": {
    "colab": {
      "provenance": [],
      "authorship_tag": "ABX9TyNpRVGJ8Icg8P/yLdMnZmlT",
      "include_colab_link": true
    },
    "kernelspec": {
      "name": "python3",
      "display_name": "Python 3"
    },
    "language_info": {
      "name": "python"
    }
  },
  "cells": [
    {
      "cell_type": "markdown",
      "metadata": {
        "id": "view-in-github",
        "colab_type": "text"
      },
      "source": [
        "<a href=\"https://colab.research.google.com/github/SiddharthDNathan/RT-IoT---Intrusion-Detection-Systems-IDS-/blob/main/RT_IoT2022.ipynb\" target=\"_parent\"><img src=\"https://colab.research.google.com/assets/colab-badge.svg\" alt=\"Open In Colab\"/></a>"
      ]
    },
    {
      "cell_type": "markdown",
      "source": [
        "# RT-IoT - Intrusion Detection Systems (IDS)"
      ],
      "metadata": {
        "id": "v4gz3vPcG6bQ"
      }
    },
    {
      "cell_type": "markdown",
      "source": [
        "The RT-IoT2022, a proprietary dataset derived from a real-time IoT infrastructure, is introduced as a comprehensive resource integrating a diverse range of IoT devices and sophisticated network attack methodologies. This dataset encompasses both normal and adversarial network behaviours, providing a general representation of real-world scenarios. Incorporating data from IoT devices such as ThingSpeak-LED, Wipro-Bulb, and MQTT-Temp, as well as simulated attack scenarios involving Brute-Force SSH attacks, DDoS attacks using Hping and Slowloris, and Nmap patterns, RT-IoT2022 offers a detailed perspective on the complex nature of network traffic. The bidirectional attributes of network traffic are meticulously captured using the Zeek network monitoring tool and the Flowmeter plugin. Researchers can leverage the RT-IoT2022 dataset to advance the capabilities of Intrusion Detection Systems (IDS), fostering the development of robust and adaptive security solutions for real-time IoT networks."
      ],
      "metadata": {
        "id": "7fSYk-Q0G2sw"
      }
    },
    {
      "cell_type": "markdown",
      "source": [
        "**DataSet Link** - https://archive.ics.uci.edu/dataset/942/rt-iot2022"
      ],
      "metadata": {
        "id": "DgbBv1q_IR6F"
      }
    },
    {
      "cell_type": "markdown",
      "source": [
        "The dataset provided for analysis in the engineering domain is tabular, sequential, and multivariate, encompassing a wide array of features relevant to network flow behavior. With 123,117 instances and 83 features, it offers a comprehensive glimpse into various aspects of network traffic. These features are of both real and categorical types, reflecting the diverse nature of data collected in engineering contexts. Researchers and practitioners can leverage this dataset for a range of tasks including classification, regression, and clustering, enabling insights into network performance, anomaly detection, and optimization strategies. Its multivariate nature and substantial instance count provide ample opportunities for exploratory analysis, model development, and algorithmic refinement within the engineering and network security domains."
      ],
      "metadata": {
        "id": "DoPFF1YwIP20"
      }
    },
    {
      "cell_type": "code",
      "source": [
        "import numpy as np\n",
        "import pandas as pd\n",
        "import matplotlib.pyplot as plt\n",
        "import seaborn as sns\n",
        "from sklearn.preprocessing import LabelEncoder\n",
        "from sklearn.preprocessing import RobustScaler\n",
        "from sklearn.model_selection import train_test_split\n",
        "from sklearn.linear_model import LogisticRegression\n",
        "from sklearn.neighbors import KNeighborsClassifier\n",
        "from sklearn.metrics import accuracy_score, classification_report\n",
        "from imblearn.over_sampling import SMOTE\n",
        "from imblearn.under_sampling import TomekLinks\n",
        "from sklearn.model_selection import KFold, cross_val_score\n",
        "import warnings\n",
        "warnings.filterwarnings('ignore')"
      ],
      "metadata": {
        "id": "TpS80QiRIRUV"
      },
      "execution_count": 189,
      "outputs": []
    },
    {
      "cell_type": "code",
      "source": [
        "from google.colab import drive\n",
        "drive.mount('/content/drive')"
      ],
      "metadata": {
        "colab": {
          "base_uri": "https://localhost:8080/"
        },
        "id": "6iZ89rqJIzau",
        "outputId": "2f94a6fc-33eb-4ab0-85d6-e45e4f22edba"
      },
      "execution_count": 190,
      "outputs": [
        {
          "output_type": "stream",
          "name": "stdout",
          "text": [
            "Drive already mounted at /content/drive; to attempt to forcibly remount, call drive.mount(\"/content/drive\", force_remount=True).\n"
          ]
        }
      ]
    },
    {
      "cell_type": "markdown",
      "source": [
        "## Data Loading and Cleaning"
      ],
      "metadata": {
        "id": "eOP0GFSCMc-h"
      }
    },
    {
      "cell_type": "code",
      "source": [
        "df = pd.read_csv('/content/drive/MyDrive/CSV Files/RT_IOT2022')\n"
      ],
      "metadata": {
        "id": "h0_VOScoI8_-"
      },
      "execution_count": 191,
      "outputs": []
    },
    {
      "cell_type": "code",
      "source": [
        "df.head()"
      ],
      "metadata": {
        "colab": {
          "base_uri": "https://localhost:8080/",
          "height": 273
        },
        "id": "S5Zl3EH_JQkP",
        "outputId": "7992a45e-54e3-4f6b-ab07-59145785e8cc"
      },
      "execution_count": 192,
      "outputs": [
        {
          "output_type": "execute_result",
          "data": {
            "text/plain": [
              "   Unnamed: 0  id.orig_p  id.resp_p proto service  flow_duration  \\\n",
              "0           0      38667       1883   tcp    mqtt      32.011598   \n",
              "1           1      51143       1883   tcp    mqtt      31.883584   \n",
              "2           2      44761       1883   tcp    mqtt      32.124053   \n",
              "3           3      60893       1883   tcp    mqtt      31.961063   \n",
              "4           4      51087       1883   tcp    mqtt      31.902362   \n",
              "\n",
              "   fwd_pkts_tot  bwd_pkts_tot  fwd_data_pkts_tot  bwd_data_pkts_tot  ...  \\\n",
              "0             9             5                  3                  3  ...   \n",
              "1             9             5                  3                  3  ...   \n",
              "2             9             5                  3                  3  ...   \n",
              "3             9             5                  3                  3  ...   \n",
              "4             9             5                  3                  3  ...   \n",
              "\n",
              "   active.std      idle.min      idle.max      idle.tot      idle.avg  \\\n",
              "0         0.0  2.972918e+07  2.972918e+07  2.972918e+07  2.972918e+07   \n",
              "1         0.0  2.985528e+07  2.985528e+07  2.985528e+07  2.985528e+07   \n",
              "2         0.0  2.984215e+07  2.984215e+07  2.984215e+07  2.984215e+07   \n",
              "3         0.0  2.991377e+07  2.991377e+07  2.991377e+07  2.991377e+07   \n",
              "4         0.0  2.981470e+07  2.981470e+07  2.981470e+07  2.981470e+07   \n",
              "\n",
              "   idle.std  fwd_init_window_size  bwd_init_window_size  fwd_last_window_size  \\\n",
              "0       0.0                 64240                 26847                   502   \n",
              "1       0.0                 64240                 26847                   502   \n",
              "2       0.0                 64240                 26847                   502   \n",
              "3       0.0                 64240                 26847                   502   \n",
              "4       0.0                 64240                 26847                   502   \n",
              "\n",
              "    Attack_type  \n",
              "0  MQTT_Publish  \n",
              "1  MQTT_Publish  \n",
              "2  MQTT_Publish  \n",
              "3  MQTT_Publish  \n",
              "4  MQTT_Publish  \n",
              "\n",
              "[5 rows x 85 columns]"
            ],
            "text/html": [
              "\n",
              "  <div id=\"df-5f2aa670-c618-479a-ae02-224df35f956c\" class=\"colab-df-container\">\n",
              "    <div>\n",
              "<style scoped>\n",
              "    .dataframe tbody tr th:only-of-type {\n",
              "        vertical-align: middle;\n",
              "    }\n",
              "\n",
              "    .dataframe tbody tr th {\n",
              "        vertical-align: top;\n",
              "    }\n",
              "\n",
              "    .dataframe thead th {\n",
              "        text-align: right;\n",
              "    }\n",
              "</style>\n",
              "<table border=\"1\" class=\"dataframe\">\n",
              "  <thead>\n",
              "    <tr style=\"text-align: right;\">\n",
              "      <th></th>\n",
              "      <th>Unnamed: 0</th>\n",
              "      <th>id.orig_p</th>\n",
              "      <th>id.resp_p</th>\n",
              "      <th>proto</th>\n",
              "      <th>service</th>\n",
              "      <th>flow_duration</th>\n",
              "      <th>fwd_pkts_tot</th>\n",
              "      <th>bwd_pkts_tot</th>\n",
              "      <th>fwd_data_pkts_tot</th>\n",
              "      <th>bwd_data_pkts_tot</th>\n",
              "      <th>...</th>\n",
              "      <th>active.std</th>\n",
              "      <th>idle.min</th>\n",
              "      <th>idle.max</th>\n",
              "      <th>idle.tot</th>\n",
              "      <th>idle.avg</th>\n",
              "      <th>idle.std</th>\n",
              "      <th>fwd_init_window_size</th>\n",
              "      <th>bwd_init_window_size</th>\n",
              "      <th>fwd_last_window_size</th>\n",
              "      <th>Attack_type</th>\n",
              "    </tr>\n",
              "  </thead>\n",
              "  <tbody>\n",
              "    <tr>\n",
              "      <th>0</th>\n",
              "      <td>0</td>\n",
              "      <td>38667</td>\n",
              "      <td>1883</td>\n",
              "      <td>tcp</td>\n",
              "      <td>mqtt</td>\n",
              "      <td>32.011598</td>\n",
              "      <td>9</td>\n",
              "      <td>5</td>\n",
              "      <td>3</td>\n",
              "      <td>3</td>\n",
              "      <td>...</td>\n",
              "      <td>0.0</td>\n",
              "      <td>2.972918e+07</td>\n",
              "      <td>2.972918e+07</td>\n",
              "      <td>2.972918e+07</td>\n",
              "      <td>2.972918e+07</td>\n",
              "      <td>0.0</td>\n",
              "      <td>64240</td>\n",
              "      <td>26847</td>\n",
              "      <td>502</td>\n",
              "      <td>MQTT_Publish</td>\n",
              "    </tr>\n",
              "    <tr>\n",
              "      <th>1</th>\n",
              "      <td>1</td>\n",
              "      <td>51143</td>\n",
              "      <td>1883</td>\n",
              "      <td>tcp</td>\n",
              "      <td>mqtt</td>\n",
              "      <td>31.883584</td>\n",
              "      <td>9</td>\n",
              "      <td>5</td>\n",
              "      <td>3</td>\n",
              "      <td>3</td>\n",
              "      <td>...</td>\n",
              "      <td>0.0</td>\n",
              "      <td>2.985528e+07</td>\n",
              "      <td>2.985528e+07</td>\n",
              "      <td>2.985528e+07</td>\n",
              "      <td>2.985528e+07</td>\n",
              "      <td>0.0</td>\n",
              "      <td>64240</td>\n",
              "      <td>26847</td>\n",
              "      <td>502</td>\n",
              "      <td>MQTT_Publish</td>\n",
              "    </tr>\n",
              "    <tr>\n",
              "      <th>2</th>\n",
              "      <td>2</td>\n",
              "      <td>44761</td>\n",
              "      <td>1883</td>\n",
              "      <td>tcp</td>\n",
              "      <td>mqtt</td>\n",
              "      <td>32.124053</td>\n",
              "      <td>9</td>\n",
              "      <td>5</td>\n",
              "      <td>3</td>\n",
              "      <td>3</td>\n",
              "      <td>...</td>\n",
              "      <td>0.0</td>\n",
              "      <td>2.984215e+07</td>\n",
              "      <td>2.984215e+07</td>\n",
              "      <td>2.984215e+07</td>\n",
              "      <td>2.984215e+07</td>\n",
              "      <td>0.0</td>\n",
              "      <td>64240</td>\n",
              "      <td>26847</td>\n",
              "      <td>502</td>\n",
              "      <td>MQTT_Publish</td>\n",
              "    </tr>\n",
              "    <tr>\n",
              "      <th>3</th>\n",
              "      <td>3</td>\n",
              "      <td>60893</td>\n",
              "      <td>1883</td>\n",
              "      <td>tcp</td>\n",
              "      <td>mqtt</td>\n",
              "      <td>31.961063</td>\n",
              "      <td>9</td>\n",
              "      <td>5</td>\n",
              "      <td>3</td>\n",
              "      <td>3</td>\n",
              "      <td>...</td>\n",
              "      <td>0.0</td>\n",
              "      <td>2.991377e+07</td>\n",
              "      <td>2.991377e+07</td>\n",
              "      <td>2.991377e+07</td>\n",
              "      <td>2.991377e+07</td>\n",
              "      <td>0.0</td>\n",
              "      <td>64240</td>\n",
              "      <td>26847</td>\n",
              "      <td>502</td>\n",
              "      <td>MQTT_Publish</td>\n",
              "    </tr>\n",
              "    <tr>\n",
              "      <th>4</th>\n",
              "      <td>4</td>\n",
              "      <td>51087</td>\n",
              "      <td>1883</td>\n",
              "      <td>tcp</td>\n",
              "      <td>mqtt</td>\n",
              "      <td>31.902362</td>\n",
              "      <td>9</td>\n",
              "      <td>5</td>\n",
              "      <td>3</td>\n",
              "      <td>3</td>\n",
              "      <td>...</td>\n",
              "      <td>0.0</td>\n",
              "      <td>2.981470e+07</td>\n",
              "      <td>2.981470e+07</td>\n",
              "      <td>2.981470e+07</td>\n",
              "      <td>2.981470e+07</td>\n",
              "      <td>0.0</td>\n",
              "      <td>64240</td>\n",
              "      <td>26847</td>\n",
              "      <td>502</td>\n",
              "      <td>MQTT_Publish</td>\n",
              "    </tr>\n",
              "  </tbody>\n",
              "</table>\n",
              "<p>5 rows × 85 columns</p>\n",
              "</div>\n",
              "    <div class=\"colab-df-buttons\">\n",
              "\n",
              "  <div class=\"colab-df-container\">\n",
              "    <button class=\"colab-df-convert\" onclick=\"convertToInteractive('df-5f2aa670-c618-479a-ae02-224df35f956c')\"\n",
              "            title=\"Convert this dataframe to an interactive table.\"\n",
              "            style=\"display:none;\">\n",
              "\n",
              "  <svg xmlns=\"http://www.w3.org/2000/svg\" height=\"24px\" viewBox=\"0 -960 960 960\">\n",
              "    <path d=\"M120-120v-720h720v720H120Zm60-500h600v-160H180v160Zm220 220h160v-160H400v160Zm0 220h160v-160H400v160ZM180-400h160v-160H180v160Zm440 0h160v-160H620v160ZM180-180h160v-160H180v160Zm440 0h160v-160H620v160Z\"/>\n",
              "  </svg>\n",
              "    </button>\n",
              "\n",
              "  <style>\n",
              "    .colab-df-container {\n",
              "      display:flex;\n",
              "      gap: 12px;\n",
              "    }\n",
              "\n",
              "    .colab-df-convert {\n",
              "      background-color: #E8F0FE;\n",
              "      border: none;\n",
              "      border-radius: 50%;\n",
              "      cursor: pointer;\n",
              "      display: none;\n",
              "      fill: #1967D2;\n",
              "      height: 32px;\n",
              "      padding: 0 0 0 0;\n",
              "      width: 32px;\n",
              "    }\n",
              "\n",
              "    .colab-df-convert:hover {\n",
              "      background-color: #E2EBFA;\n",
              "      box-shadow: 0px 1px 2px rgba(60, 64, 67, 0.3), 0px 1px 3px 1px rgba(60, 64, 67, 0.15);\n",
              "      fill: #174EA6;\n",
              "    }\n",
              "\n",
              "    .colab-df-buttons div {\n",
              "      margin-bottom: 4px;\n",
              "    }\n",
              "\n",
              "    [theme=dark] .colab-df-convert {\n",
              "      background-color: #3B4455;\n",
              "      fill: #D2E3FC;\n",
              "    }\n",
              "\n",
              "    [theme=dark] .colab-df-convert:hover {\n",
              "      background-color: #434B5C;\n",
              "      box-shadow: 0px 1px 3px 1px rgba(0, 0, 0, 0.15);\n",
              "      filter: drop-shadow(0px 1px 2px rgba(0, 0, 0, 0.3));\n",
              "      fill: #FFFFFF;\n",
              "    }\n",
              "  </style>\n",
              "\n",
              "    <script>\n",
              "      const buttonEl =\n",
              "        document.querySelector('#df-5f2aa670-c618-479a-ae02-224df35f956c button.colab-df-convert');\n",
              "      buttonEl.style.display =\n",
              "        google.colab.kernel.accessAllowed ? 'block' : 'none';\n",
              "\n",
              "      async function convertToInteractive(key) {\n",
              "        const element = document.querySelector('#df-5f2aa670-c618-479a-ae02-224df35f956c');\n",
              "        const dataTable =\n",
              "          await google.colab.kernel.invokeFunction('convertToInteractive',\n",
              "                                                    [key], {});\n",
              "        if (!dataTable) return;\n",
              "\n",
              "        const docLinkHtml = 'Like what you see? Visit the ' +\n",
              "          '<a target=\"_blank\" href=https://colab.research.google.com/notebooks/data_table.ipynb>data table notebook</a>'\n",
              "          + ' to learn more about interactive tables.';\n",
              "        element.innerHTML = '';\n",
              "        dataTable['output_type'] = 'display_data';\n",
              "        await google.colab.output.renderOutput(dataTable, element);\n",
              "        const docLink = document.createElement('div');\n",
              "        docLink.innerHTML = docLinkHtml;\n",
              "        element.appendChild(docLink);\n",
              "      }\n",
              "    </script>\n",
              "  </div>\n",
              "\n",
              "\n",
              "<div id=\"df-d1b25131-9dae-4bbd-a2dd-76b5d88dd2b1\">\n",
              "  <button class=\"colab-df-quickchart\" onclick=\"quickchart('df-d1b25131-9dae-4bbd-a2dd-76b5d88dd2b1')\"\n",
              "            title=\"Suggest charts\"\n",
              "            style=\"display:none;\">\n",
              "\n",
              "<svg xmlns=\"http://www.w3.org/2000/svg\" height=\"24px\"viewBox=\"0 0 24 24\"\n",
              "     width=\"24px\">\n",
              "    <g>\n",
              "        <path d=\"M19 3H5c-1.1 0-2 .9-2 2v14c0 1.1.9 2 2 2h14c1.1 0 2-.9 2-2V5c0-1.1-.9-2-2-2zM9 17H7v-7h2v7zm4 0h-2V7h2v10zm4 0h-2v-4h2v4z\"/>\n",
              "    </g>\n",
              "</svg>\n",
              "  </button>\n",
              "\n",
              "<style>\n",
              "  .colab-df-quickchart {\n",
              "      --bg-color: #E8F0FE;\n",
              "      --fill-color: #1967D2;\n",
              "      --hover-bg-color: #E2EBFA;\n",
              "      --hover-fill-color: #174EA6;\n",
              "      --disabled-fill-color: #AAA;\n",
              "      --disabled-bg-color: #DDD;\n",
              "  }\n",
              "\n",
              "  [theme=dark] .colab-df-quickchart {\n",
              "      --bg-color: #3B4455;\n",
              "      --fill-color: #D2E3FC;\n",
              "      --hover-bg-color: #434B5C;\n",
              "      --hover-fill-color: #FFFFFF;\n",
              "      --disabled-bg-color: #3B4455;\n",
              "      --disabled-fill-color: #666;\n",
              "  }\n",
              "\n",
              "  .colab-df-quickchart {\n",
              "    background-color: var(--bg-color);\n",
              "    border: none;\n",
              "    border-radius: 50%;\n",
              "    cursor: pointer;\n",
              "    display: none;\n",
              "    fill: var(--fill-color);\n",
              "    height: 32px;\n",
              "    padding: 0;\n",
              "    width: 32px;\n",
              "  }\n",
              "\n",
              "  .colab-df-quickchart:hover {\n",
              "    background-color: var(--hover-bg-color);\n",
              "    box-shadow: 0 1px 2px rgba(60, 64, 67, 0.3), 0 1px 3px 1px rgba(60, 64, 67, 0.15);\n",
              "    fill: var(--button-hover-fill-color);\n",
              "  }\n",
              "\n",
              "  .colab-df-quickchart-complete:disabled,\n",
              "  .colab-df-quickchart-complete:disabled:hover {\n",
              "    background-color: var(--disabled-bg-color);\n",
              "    fill: var(--disabled-fill-color);\n",
              "    box-shadow: none;\n",
              "  }\n",
              "\n",
              "  .colab-df-spinner {\n",
              "    border: 2px solid var(--fill-color);\n",
              "    border-color: transparent;\n",
              "    border-bottom-color: var(--fill-color);\n",
              "    animation:\n",
              "      spin 1s steps(1) infinite;\n",
              "  }\n",
              "\n",
              "  @keyframes spin {\n",
              "    0% {\n",
              "      border-color: transparent;\n",
              "      border-bottom-color: var(--fill-color);\n",
              "      border-left-color: var(--fill-color);\n",
              "    }\n",
              "    20% {\n",
              "      border-color: transparent;\n",
              "      border-left-color: var(--fill-color);\n",
              "      border-top-color: var(--fill-color);\n",
              "    }\n",
              "    30% {\n",
              "      border-color: transparent;\n",
              "      border-left-color: var(--fill-color);\n",
              "      border-top-color: var(--fill-color);\n",
              "      border-right-color: var(--fill-color);\n",
              "    }\n",
              "    40% {\n",
              "      border-color: transparent;\n",
              "      border-right-color: var(--fill-color);\n",
              "      border-top-color: var(--fill-color);\n",
              "    }\n",
              "    60% {\n",
              "      border-color: transparent;\n",
              "      border-right-color: var(--fill-color);\n",
              "    }\n",
              "    80% {\n",
              "      border-color: transparent;\n",
              "      border-right-color: var(--fill-color);\n",
              "      border-bottom-color: var(--fill-color);\n",
              "    }\n",
              "    90% {\n",
              "      border-color: transparent;\n",
              "      border-bottom-color: var(--fill-color);\n",
              "    }\n",
              "  }\n",
              "</style>\n",
              "\n",
              "  <script>\n",
              "    async function quickchart(key) {\n",
              "      const quickchartButtonEl =\n",
              "        document.querySelector('#' + key + ' button');\n",
              "      quickchartButtonEl.disabled = true;  // To prevent multiple clicks.\n",
              "      quickchartButtonEl.classList.add('colab-df-spinner');\n",
              "      try {\n",
              "        const charts = await google.colab.kernel.invokeFunction(\n",
              "            'suggestCharts', [key], {});\n",
              "      } catch (error) {\n",
              "        console.error('Error during call to suggestCharts:', error);\n",
              "      }\n",
              "      quickchartButtonEl.classList.remove('colab-df-spinner');\n",
              "      quickchartButtonEl.classList.add('colab-df-quickchart-complete');\n",
              "    }\n",
              "    (() => {\n",
              "      let quickchartButtonEl =\n",
              "        document.querySelector('#df-d1b25131-9dae-4bbd-a2dd-76b5d88dd2b1 button');\n",
              "      quickchartButtonEl.style.display =\n",
              "        google.colab.kernel.accessAllowed ? 'block' : 'none';\n",
              "    })();\n",
              "  </script>\n",
              "</div>\n",
              "\n",
              "    </div>\n",
              "  </div>\n"
            ],
            "application/vnd.google.colaboratory.intrinsic+json": {
              "type": "dataframe",
              "variable_name": "df"
            }
          },
          "metadata": {},
          "execution_count": 192
        }
      ]
    },
    {
      "cell_type": "code",
      "source": [
        "df.tail()"
      ],
      "metadata": {
        "colab": {
          "base_uri": "https://localhost:8080/",
          "height": 273
        },
        "id": "Iy1nD-StJs4Z",
        "outputId": "f987305d-d383-4ca2-ad0b-3785d2e319d5"
      },
      "execution_count": 193,
      "outputs": [
        {
          "output_type": "execute_result",
          "data": {
            "text/plain": [
              "        Unnamed: 0  id.orig_p  id.resp_p proto service  flow_duration  \\\n",
              "123112        2005      59247      63331   tcp       -       0.000006   \n",
              "123113        2006      59247      64623   tcp       -       0.000007   \n",
              "123114        2007      59247      64680   tcp       -       0.000006   \n",
              "123115        2008      59247      65000   tcp       -       0.000006   \n",
              "123116        2009      59247      65129   tcp       -       0.000006   \n",
              "\n",
              "        fwd_pkts_tot  bwd_pkts_tot  fwd_data_pkts_tot  bwd_data_pkts_tot  ...  \\\n",
              "123112             1             1                  0                  0  ...   \n",
              "123113             1             1                  0                  0  ...   \n",
              "123114             1             1                  0                  0  ...   \n",
              "123115             1             1                  0                  0  ...   \n",
              "123116             1             1                  0                  0  ...   \n",
              "\n",
              "        active.std  idle.min  idle.max  idle.tot  idle.avg  idle.std  \\\n",
              "123112         0.0       0.0       0.0       0.0       0.0       0.0   \n",
              "123113         0.0       0.0       0.0       0.0       0.0       0.0   \n",
              "123114         0.0       0.0       0.0       0.0       0.0       0.0   \n",
              "123115         0.0       0.0       0.0       0.0       0.0       0.0   \n",
              "123116         0.0       0.0       0.0       0.0       0.0       0.0   \n",
              "\n",
              "        fwd_init_window_size  bwd_init_window_size  fwd_last_window_size  \\\n",
              "123112                  1024                     0                  1024   \n",
              "123113                  1024                     0                  1024   \n",
              "123114                  1024                     0                  1024   \n",
              "123115                  1024                     0                  1024   \n",
              "123116                  1024                     0                  1024   \n",
              "\n",
              "                Attack_type  \n",
              "123112  NMAP_XMAS_TREE_SCAN  \n",
              "123113  NMAP_XMAS_TREE_SCAN  \n",
              "123114  NMAP_XMAS_TREE_SCAN  \n",
              "123115  NMAP_XMAS_TREE_SCAN  \n",
              "123116  NMAP_XMAS_TREE_SCAN  \n",
              "\n",
              "[5 rows x 85 columns]"
            ],
            "text/html": [
              "\n",
              "  <div id=\"df-2e3fd831-be2c-4546-8307-dd223aac3384\" class=\"colab-df-container\">\n",
              "    <div>\n",
              "<style scoped>\n",
              "    .dataframe tbody tr th:only-of-type {\n",
              "        vertical-align: middle;\n",
              "    }\n",
              "\n",
              "    .dataframe tbody tr th {\n",
              "        vertical-align: top;\n",
              "    }\n",
              "\n",
              "    .dataframe thead th {\n",
              "        text-align: right;\n",
              "    }\n",
              "</style>\n",
              "<table border=\"1\" class=\"dataframe\">\n",
              "  <thead>\n",
              "    <tr style=\"text-align: right;\">\n",
              "      <th></th>\n",
              "      <th>Unnamed: 0</th>\n",
              "      <th>id.orig_p</th>\n",
              "      <th>id.resp_p</th>\n",
              "      <th>proto</th>\n",
              "      <th>service</th>\n",
              "      <th>flow_duration</th>\n",
              "      <th>fwd_pkts_tot</th>\n",
              "      <th>bwd_pkts_tot</th>\n",
              "      <th>fwd_data_pkts_tot</th>\n",
              "      <th>bwd_data_pkts_tot</th>\n",
              "      <th>...</th>\n",
              "      <th>active.std</th>\n",
              "      <th>idle.min</th>\n",
              "      <th>idle.max</th>\n",
              "      <th>idle.tot</th>\n",
              "      <th>idle.avg</th>\n",
              "      <th>idle.std</th>\n",
              "      <th>fwd_init_window_size</th>\n",
              "      <th>bwd_init_window_size</th>\n",
              "      <th>fwd_last_window_size</th>\n",
              "      <th>Attack_type</th>\n",
              "    </tr>\n",
              "  </thead>\n",
              "  <tbody>\n",
              "    <tr>\n",
              "      <th>123112</th>\n",
              "      <td>2005</td>\n",
              "      <td>59247</td>\n",
              "      <td>63331</td>\n",
              "      <td>tcp</td>\n",
              "      <td>-</td>\n",
              "      <td>0.000006</td>\n",
              "      <td>1</td>\n",
              "      <td>1</td>\n",
              "      <td>0</td>\n",
              "      <td>0</td>\n",
              "      <td>...</td>\n",
              "      <td>0.0</td>\n",
              "      <td>0.0</td>\n",
              "      <td>0.0</td>\n",
              "      <td>0.0</td>\n",
              "      <td>0.0</td>\n",
              "      <td>0.0</td>\n",
              "      <td>1024</td>\n",
              "      <td>0</td>\n",
              "      <td>1024</td>\n",
              "      <td>NMAP_XMAS_TREE_SCAN</td>\n",
              "    </tr>\n",
              "    <tr>\n",
              "      <th>123113</th>\n",
              "      <td>2006</td>\n",
              "      <td>59247</td>\n",
              "      <td>64623</td>\n",
              "      <td>tcp</td>\n",
              "      <td>-</td>\n",
              "      <td>0.000007</td>\n",
              "      <td>1</td>\n",
              "      <td>1</td>\n",
              "      <td>0</td>\n",
              "      <td>0</td>\n",
              "      <td>...</td>\n",
              "      <td>0.0</td>\n",
              "      <td>0.0</td>\n",
              "      <td>0.0</td>\n",
              "      <td>0.0</td>\n",
              "      <td>0.0</td>\n",
              "      <td>0.0</td>\n",
              "      <td>1024</td>\n",
              "      <td>0</td>\n",
              "      <td>1024</td>\n",
              "      <td>NMAP_XMAS_TREE_SCAN</td>\n",
              "    </tr>\n",
              "    <tr>\n",
              "      <th>123114</th>\n",
              "      <td>2007</td>\n",
              "      <td>59247</td>\n",
              "      <td>64680</td>\n",
              "      <td>tcp</td>\n",
              "      <td>-</td>\n",
              "      <td>0.000006</td>\n",
              "      <td>1</td>\n",
              "      <td>1</td>\n",
              "      <td>0</td>\n",
              "      <td>0</td>\n",
              "      <td>...</td>\n",
              "      <td>0.0</td>\n",
              "      <td>0.0</td>\n",
              "      <td>0.0</td>\n",
              "      <td>0.0</td>\n",
              "      <td>0.0</td>\n",
              "      <td>0.0</td>\n",
              "      <td>1024</td>\n",
              "      <td>0</td>\n",
              "      <td>1024</td>\n",
              "      <td>NMAP_XMAS_TREE_SCAN</td>\n",
              "    </tr>\n",
              "    <tr>\n",
              "      <th>123115</th>\n",
              "      <td>2008</td>\n",
              "      <td>59247</td>\n",
              "      <td>65000</td>\n",
              "      <td>tcp</td>\n",
              "      <td>-</td>\n",
              "      <td>0.000006</td>\n",
              "      <td>1</td>\n",
              "      <td>1</td>\n",
              "      <td>0</td>\n",
              "      <td>0</td>\n",
              "      <td>...</td>\n",
              "      <td>0.0</td>\n",
              "      <td>0.0</td>\n",
              "      <td>0.0</td>\n",
              "      <td>0.0</td>\n",
              "      <td>0.0</td>\n",
              "      <td>0.0</td>\n",
              "      <td>1024</td>\n",
              "      <td>0</td>\n",
              "      <td>1024</td>\n",
              "      <td>NMAP_XMAS_TREE_SCAN</td>\n",
              "    </tr>\n",
              "    <tr>\n",
              "      <th>123116</th>\n",
              "      <td>2009</td>\n",
              "      <td>59247</td>\n",
              "      <td>65129</td>\n",
              "      <td>tcp</td>\n",
              "      <td>-</td>\n",
              "      <td>0.000006</td>\n",
              "      <td>1</td>\n",
              "      <td>1</td>\n",
              "      <td>0</td>\n",
              "      <td>0</td>\n",
              "      <td>...</td>\n",
              "      <td>0.0</td>\n",
              "      <td>0.0</td>\n",
              "      <td>0.0</td>\n",
              "      <td>0.0</td>\n",
              "      <td>0.0</td>\n",
              "      <td>0.0</td>\n",
              "      <td>1024</td>\n",
              "      <td>0</td>\n",
              "      <td>1024</td>\n",
              "      <td>NMAP_XMAS_TREE_SCAN</td>\n",
              "    </tr>\n",
              "  </tbody>\n",
              "</table>\n",
              "<p>5 rows × 85 columns</p>\n",
              "</div>\n",
              "    <div class=\"colab-df-buttons\">\n",
              "\n",
              "  <div class=\"colab-df-container\">\n",
              "    <button class=\"colab-df-convert\" onclick=\"convertToInteractive('df-2e3fd831-be2c-4546-8307-dd223aac3384')\"\n",
              "            title=\"Convert this dataframe to an interactive table.\"\n",
              "            style=\"display:none;\">\n",
              "\n",
              "  <svg xmlns=\"http://www.w3.org/2000/svg\" height=\"24px\" viewBox=\"0 -960 960 960\">\n",
              "    <path d=\"M120-120v-720h720v720H120Zm60-500h600v-160H180v160Zm220 220h160v-160H400v160Zm0 220h160v-160H400v160ZM180-400h160v-160H180v160Zm440 0h160v-160H620v160ZM180-180h160v-160H180v160Zm440 0h160v-160H620v160Z\"/>\n",
              "  </svg>\n",
              "    </button>\n",
              "\n",
              "  <style>\n",
              "    .colab-df-container {\n",
              "      display:flex;\n",
              "      gap: 12px;\n",
              "    }\n",
              "\n",
              "    .colab-df-convert {\n",
              "      background-color: #E8F0FE;\n",
              "      border: none;\n",
              "      border-radius: 50%;\n",
              "      cursor: pointer;\n",
              "      display: none;\n",
              "      fill: #1967D2;\n",
              "      height: 32px;\n",
              "      padding: 0 0 0 0;\n",
              "      width: 32px;\n",
              "    }\n",
              "\n",
              "    .colab-df-convert:hover {\n",
              "      background-color: #E2EBFA;\n",
              "      box-shadow: 0px 1px 2px rgba(60, 64, 67, 0.3), 0px 1px 3px 1px rgba(60, 64, 67, 0.15);\n",
              "      fill: #174EA6;\n",
              "    }\n",
              "\n",
              "    .colab-df-buttons div {\n",
              "      margin-bottom: 4px;\n",
              "    }\n",
              "\n",
              "    [theme=dark] .colab-df-convert {\n",
              "      background-color: #3B4455;\n",
              "      fill: #D2E3FC;\n",
              "    }\n",
              "\n",
              "    [theme=dark] .colab-df-convert:hover {\n",
              "      background-color: #434B5C;\n",
              "      box-shadow: 0px 1px 3px 1px rgba(0, 0, 0, 0.15);\n",
              "      filter: drop-shadow(0px 1px 2px rgba(0, 0, 0, 0.3));\n",
              "      fill: #FFFFFF;\n",
              "    }\n",
              "  </style>\n",
              "\n",
              "    <script>\n",
              "      const buttonEl =\n",
              "        document.querySelector('#df-2e3fd831-be2c-4546-8307-dd223aac3384 button.colab-df-convert');\n",
              "      buttonEl.style.display =\n",
              "        google.colab.kernel.accessAllowed ? 'block' : 'none';\n",
              "\n",
              "      async function convertToInteractive(key) {\n",
              "        const element = document.querySelector('#df-2e3fd831-be2c-4546-8307-dd223aac3384');\n",
              "        const dataTable =\n",
              "          await google.colab.kernel.invokeFunction('convertToInteractive',\n",
              "                                                    [key], {});\n",
              "        if (!dataTable) return;\n",
              "\n",
              "        const docLinkHtml = 'Like what you see? Visit the ' +\n",
              "          '<a target=\"_blank\" href=https://colab.research.google.com/notebooks/data_table.ipynb>data table notebook</a>'\n",
              "          + ' to learn more about interactive tables.';\n",
              "        element.innerHTML = '';\n",
              "        dataTable['output_type'] = 'display_data';\n",
              "        await google.colab.output.renderOutput(dataTable, element);\n",
              "        const docLink = document.createElement('div');\n",
              "        docLink.innerHTML = docLinkHtml;\n",
              "        element.appendChild(docLink);\n",
              "      }\n",
              "    </script>\n",
              "  </div>\n",
              "\n",
              "\n",
              "<div id=\"df-59738226-6166-441d-a697-9dfd48f5bad4\">\n",
              "  <button class=\"colab-df-quickchart\" onclick=\"quickchart('df-59738226-6166-441d-a697-9dfd48f5bad4')\"\n",
              "            title=\"Suggest charts\"\n",
              "            style=\"display:none;\">\n",
              "\n",
              "<svg xmlns=\"http://www.w3.org/2000/svg\" height=\"24px\"viewBox=\"0 0 24 24\"\n",
              "     width=\"24px\">\n",
              "    <g>\n",
              "        <path d=\"M19 3H5c-1.1 0-2 .9-2 2v14c0 1.1.9 2 2 2h14c1.1 0 2-.9 2-2V5c0-1.1-.9-2-2-2zM9 17H7v-7h2v7zm4 0h-2V7h2v10zm4 0h-2v-4h2v4z\"/>\n",
              "    </g>\n",
              "</svg>\n",
              "  </button>\n",
              "\n",
              "<style>\n",
              "  .colab-df-quickchart {\n",
              "      --bg-color: #E8F0FE;\n",
              "      --fill-color: #1967D2;\n",
              "      --hover-bg-color: #E2EBFA;\n",
              "      --hover-fill-color: #174EA6;\n",
              "      --disabled-fill-color: #AAA;\n",
              "      --disabled-bg-color: #DDD;\n",
              "  }\n",
              "\n",
              "  [theme=dark] .colab-df-quickchart {\n",
              "      --bg-color: #3B4455;\n",
              "      --fill-color: #D2E3FC;\n",
              "      --hover-bg-color: #434B5C;\n",
              "      --hover-fill-color: #FFFFFF;\n",
              "      --disabled-bg-color: #3B4455;\n",
              "      --disabled-fill-color: #666;\n",
              "  }\n",
              "\n",
              "  .colab-df-quickchart {\n",
              "    background-color: var(--bg-color);\n",
              "    border: none;\n",
              "    border-radius: 50%;\n",
              "    cursor: pointer;\n",
              "    display: none;\n",
              "    fill: var(--fill-color);\n",
              "    height: 32px;\n",
              "    padding: 0;\n",
              "    width: 32px;\n",
              "  }\n",
              "\n",
              "  .colab-df-quickchart:hover {\n",
              "    background-color: var(--hover-bg-color);\n",
              "    box-shadow: 0 1px 2px rgba(60, 64, 67, 0.3), 0 1px 3px 1px rgba(60, 64, 67, 0.15);\n",
              "    fill: var(--button-hover-fill-color);\n",
              "  }\n",
              "\n",
              "  .colab-df-quickchart-complete:disabled,\n",
              "  .colab-df-quickchart-complete:disabled:hover {\n",
              "    background-color: var(--disabled-bg-color);\n",
              "    fill: var(--disabled-fill-color);\n",
              "    box-shadow: none;\n",
              "  }\n",
              "\n",
              "  .colab-df-spinner {\n",
              "    border: 2px solid var(--fill-color);\n",
              "    border-color: transparent;\n",
              "    border-bottom-color: var(--fill-color);\n",
              "    animation:\n",
              "      spin 1s steps(1) infinite;\n",
              "  }\n",
              "\n",
              "  @keyframes spin {\n",
              "    0% {\n",
              "      border-color: transparent;\n",
              "      border-bottom-color: var(--fill-color);\n",
              "      border-left-color: var(--fill-color);\n",
              "    }\n",
              "    20% {\n",
              "      border-color: transparent;\n",
              "      border-left-color: var(--fill-color);\n",
              "      border-top-color: var(--fill-color);\n",
              "    }\n",
              "    30% {\n",
              "      border-color: transparent;\n",
              "      border-left-color: var(--fill-color);\n",
              "      border-top-color: var(--fill-color);\n",
              "      border-right-color: var(--fill-color);\n",
              "    }\n",
              "    40% {\n",
              "      border-color: transparent;\n",
              "      border-right-color: var(--fill-color);\n",
              "      border-top-color: var(--fill-color);\n",
              "    }\n",
              "    60% {\n",
              "      border-color: transparent;\n",
              "      border-right-color: var(--fill-color);\n",
              "    }\n",
              "    80% {\n",
              "      border-color: transparent;\n",
              "      border-right-color: var(--fill-color);\n",
              "      border-bottom-color: var(--fill-color);\n",
              "    }\n",
              "    90% {\n",
              "      border-color: transparent;\n",
              "      border-bottom-color: var(--fill-color);\n",
              "    }\n",
              "  }\n",
              "</style>\n",
              "\n",
              "  <script>\n",
              "    async function quickchart(key) {\n",
              "      const quickchartButtonEl =\n",
              "        document.querySelector('#' + key + ' button');\n",
              "      quickchartButtonEl.disabled = true;  // To prevent multiple clicks.\n",
              "      quickchartButtonEl.classList.add('colab-df-spinner');\n",
              "      try {\n",
              "        const charts = await google.colab.kernel.invokeFunction(\n",
              "            'suggestCharts', [key], {});\n",
              "      } catch (error) {\n",
              "        console.error('Error during call to suggestCharts:', error);\n",
              "      }\n",
              "      quickchartButtonEl.classList.remove('colab-df-spinner');\n",
              "      quickchartButtonEl.classList.add('colab-df-quickchart-complete');\n",
              "    }\n",
              "    (() => {\n",
              "      let quickchartButtonEl =\n",
              "        document.querySelector('#df-59738226-6166-441d-a697-9dfd48f5bad4 button');\n",
              "      quickchartButtonEl.style.display =\n",
              "        google.colab.kernel.accessAllowed ? 'block' : 'none';\n",
              "    })();\n",
              "  </script>\n",
              "</div>\n",
              "\n",
              "    </div>\n",
              "  </div>\n"
            ],
            "application/vnd.google.colaboratory.intrinsic+json": {
              "type": "dataframe"
            }
          },
          "metadata": {},
          "execution_count": 193
        }
      ]
    },
    {
      "cell_type": "code",
      "source": [
        "df.shape"
      ],
      "metadata": {
        "colab": {
          "base_uri": "https://localhost:8080/"
        },
        "id": "SjIwS_ClJvWI",
        "outputId": "eefcb31d-26e2-4819-aa0e-2e7753447d6b"
      },
      "execution_count": 194,
      "outputs": [
        {
          "output_type": "execute_result",
          "data": {
            "text/plain": [
              "(123117, 85)"
            ]
          },
          "metadata": {},
          "execution_count": 194
        }
      ]
    },
    {
      "cell_type": "code",
      "source": [
        "df.columns"
      ],
      "metadata": {
        "colab": {
          "base_uri": "https://localhost:8080/"
        },
        "id": "Wkua4yRkJzGg",
        "outputId": "5f3d74ff-42b6-4034-f76f-1526df899d6e"
      },
      "execution_count": 195,
      "outputs": [
        {
          "output_type": "execute_result",
          "data": {
            "text/plain": [
              "Index(['Unnamed: 0', 'id.orig_p', 'id.resp_p', 'proto', 'service',\n",
              "       'flow_duration', 'fwd_pkts_tot', 'bwd_pkts_tot', 'fwd_data_pkts_tot',\n",
              "       'bwd_data_pkts_tot', 'fwd_pkts_per_sec', 'bwd_pkts_per_sec',\n",
              "       'flow_pkts_per_sec', 'down_up_ratio', 'fwd_header_size_tot',\n",
              "       'fwd_header_size_min', 'fwd_header_size_max', 'bwd_header_size_tot',\n",
              "       'bwd_header_size_min', 'bwd_header_size_max', 'flow_FIN_flag_count',\n",
              "       'flow_SYN_flag_count', 'flow_RST_flag_count', 'fwd_PSH_flag_count',\n",
              "       'bwd_PSH_flag_count', 'flow_ACK_flag_count', 'fwd_URG_flag_count',\n",
              "       'bwd_URG_flag_count', 'flow_CWR_flag_count', 'flow_ECE_flag_count',\n",
              "       'fwd_pkts_payload.min', 'fwd_pkts_payload.max', 'fwd_pkts_payload.tot',\n",
              "       'fwd_pkts_payload.avg', 'fwd_pkts_payload.std', 'bwd_pkts_payload.min',\n",
              "       'bwd_pkts_payload.max', 'bwd_pkts_payload.tot', 'bwd_pkts_payload.avg',\n",
              "       'bwd_pkts_payload.std', 'flow_pkts_payload.min',\n",
              "       'flow_pkts_payload.max', 'flow_pkts_payload.tot',\n",
              "       'flow_pkts_payload.avg', 'flow_pkts_payload.std', 'fwd_iat.min',\n",
              "       'fwd_iat.max', 'fwd_iat.tot', 'fwd_iat.avg', 'fwd_iat.std',\n",
              "       'bwd_iat.min', 'bwd_iat.max', 'bwd_iat.tot', 'bwd_iat.avg',\n",
              "       'bwd_iat.std', 'flow_iat.min', 'flow_iat.max', 'flow_iat.tot',\n",
              "       'flow_iat.avg', 'flow_iat.std', 'payload_bytes_per_second',\n",
              "       'fwd_subflow_pkts', 'bwd_subflow_pkts', 'fwd_subflow_bytes',\n",
              "       'bwd_subflow_bytes', 'fwd_bulk_bytes', 'bwd_bulk_bytes',\n",
              "       'fwd_bulk_packets', 'bwd_bulk_packets', 'fwd_bulk_rate',\n",
              "       'bwd_bulk_rate', 'active.min', 'active.max', 'active.tot', 'active.avg',\n",
              "       'active.std', 'idle.min', 'idle.max', 'idle.tot', 'idle.avg',\n",
              "       'idle.std', 'fwd_init_window_size', 'bwd_init_window_size',\n",
              "       'fwd_last_window_size', 'Attack_type'],\n",
              "      dtype='object')"
            ]
          },
          "metadata": {},
          "execution_count": 195
        }
      ]
    },
    {
      "cell_type": "code",
      "source": [
        "df.info()"
      ],
      "metadata": {
        "colab": {
          "base_uri": "https://localhost:8080/"
        },
        "id": "Kngqy6b6KVU6",
        "outputId": "2b29c011-dfcb-469f-b323-31df0d6ab506"
      },
      "execution_count": 196,
      "outputs": [
        {
          "output_type": "stream",
          "name": "stdout",
          "text": [
            "<class 'pandas.core.frame.DataFrame'>\n",
            "RangeIndex: 123117 entries, 0 to 123116\n",
            "Data columns (total 85 columns):\n",
            " #   Column                    Non-Null Count   Dtype  \n",
            "---  ------                    --------------   -----  \n",
            " 0   Unnamed: 0                123117 non-null  int64  \n",
            " 1   id.orig_p                 123117 non-null  int64  \n",
            " 2   id.resp_p                 123117 non-null  int64  \n",
            " 3   proto                     123117 non-null  object \n",
            " 4   service                   123117 non-null  object \n",
            " 5   flow_duration             123117 non-null  float64\n",
            " 6   fwd_pkts_tot              123117 non-null  int64  \n",
            " 7   bwd_pkts_tot              123117 non-null  int64  \n",
            " 8   fwd_data_pkts_tot         123117 non-null  int64  \n",
            " 9   bwd_data_pkts_tot         123117 non-null  int64  \n",
            " 10  fwd_pkts_per_sec          123117 non-null  float64\n",
            " 11  bwd_pkts_per_sec          123117 non-null  float64\n",
            " 12  flow_pkts_per_sec         123117 non-null  float64\n",
            " 13  down_up_ratio             123117 non-null  float64\n",
            " 14  fwd_header_size_tot       123117 non-null  int64  \n",
            " 15  fwd_header_size_min       123117 non-null  int64  \n",
            " 16  fwd_header_size_max       123117 non-null  int64  \n",
            " 17  bwd_header_size_tot       123117 non-null  int64  \n",
            " 18  bwd_header_size_min       123117 non-null  int64  \n",
            " 19  bwd_header_size_max       123117 non-null  int64  \n",
            " 20  flow_FIN_flag_count       123117 non-null  int64  \n",
            " 21  flow_SYN_flag_count       123117 non-null  int64  \n",
            " 22  flow_RST_flag_count       123117 non-null  int64  \n",
            " 23  fwd_PSH_flag_count        123117 non-null  int64  \n",
            " 24  bwd_PSH_flag_count        123117 non-null  int64  \n",
            " 25  flow_ACK_flag_count       123117 non-null  int64  \n",
            " 26  fwd_URG_flag_count        123117 non-null  int64  \n",
            " 27  bwd_URG_flag_count        123117 non-null  int64  \n",
            " 28  flow_CWR_flag_count       123117 non-null  int64  \n",
            " 29  flow_ECE_flag_count       123117 non-null  int64  \n",
            " 30  fwd_pkts_payload.min      123117 non-null  float64\n",
            " 31  fwd_pkts_payload.max      123117 non-null  float64\n",
            " 32  fwd_pkts_payload.tot      123117 non-null  float64\n",
            " 33  fwd_pkts_payload.avg      123117 non-null  float64\n",
            " 34  fwd_pkts_payload.std      123117 non-null  float64\n",
            " 35  bwd_pkts_payload.min      123117 non-null  float64\n",
            " 36  bwd_pkts_payload.max      123117 non-null  float64\n",
            " 37  bwd_pkts_payload.tot      123117 non-null  float64\n",
            " 38  bwd_pkts_payload.avg      123117 non-null  float64\n",
            " 39  bwd_pkts_payload.std      123117 non-null  float64\n",
            " 40  flow_pkts_payload.min     123117 non-null  float64\n",
            " 41  flow_pkts_payload.max     123117 non-null  float64\n",
            " 42  flow_pkts_payload.tot     123117 non-null  float64\n",
            " 43  flow_pkts_payload.avg     123117 non-null  float64\n",
            " 44  flow_pkts_payload.std     123117 non-null  float64\n",
            " 45  fwd_iat.min               123117 non-null  float64\n",
            " 46  fwd_iat.max               123117 non-null  float64\n",
            " 47  fwd_iat.tot               123117 non-null  float64\n",
            " 48  fwd_iat.avg               123117 non-null  float64\n",
            " 49  fwd_iat.std               123117 non-null  float64\n",
            " 50  bwd_iat.min               123117 non-null  float64\n",
            " 51  bwd_iat.max               123117 non-null  float64\n",
            " 52  bwd_iat.tot               123117 non-null  float64\n",
            " 53  bwd_iat.avg               123117 non-null  float64\n",
            " 54  bwd_iat.std               123117 non-null  float64\n",
            " 55  flow_iat.min              123117 non-null  float64\n",
            " 56  flow_iat.max              123117 non-null  float64\n",
            " 57  flow_iat.tot              123117 non-null  float64\n",
            " 58  flow_iat.avg              123117 non-null  float64\n",
            " 59  flow_iat.std              123117 non-null  float64\n",
            " 60  payload_bytes_per_second  123117 non-null  float64\n",
            " 61  fwd_subflow_pkts          123117 non-null  float64\n",
            " 62  bwd_subflow_pkts          123117 non-null  float64\n",
            " 63  fwd_subflow_bytes         123117 non-null  float64\n",
            " 64  bwd_subflow_bytes         123117 non-null  float64\n",
            " 65  fwd_bulk_bytes            123117 non-null  float64\n",
            " 66  bwd_bulk_bytes            123117 non-null  float64\n",
            " 67  fwd_bulk_packets          123117 non-null  float64\n",
            " 68  bwd_bulk_packets          123117 non-null  float64\n",
            " 69  fwd_bulk_rate             123117 non-null  float64\n",
            " 70  bwd_bulk_rate             123117 non-null  float64\n",
            " 71  active.min                123117 non-null  float64\n",
            " 72  active.max                123117 non-null  float64\n",
            " 73  active.tot                123117 non-null  float64\n",
            " 74  active.avg                123117 non-null  float64\n",
            " 75  active.std                123117 non-null  float64\n",
            " 76  idle.min                  123117 non-null  float64\n",
            " 77  idle.max                  123117 non-null  float64\n",
            " 78  idle.tot                  123117 non-null  float64\n",
            " 79  idle.avg                  123117 non-null  float64\n",
            " 80  idle.std                  123117 non-null  float64\n",
            " 81  fwd_init_window_size      123117 non-null  int64  \n",
            " 82  bwd_init_window_size      123117 non-null  int64  \n",
            " 83  fwd_last_window_size      123117 non-null  int64  \n",
            " 84  Attack_type               123117 non-null  object \n",
            "dtypes: float64(56), int64(26), object(3)\n",
            "memory usage: 79.8+ MB\n"
          ]
        }
      ]
    },
    {
      "cell_type": "code",
      "source": [
        "df.describe()"
      ],
      "metadata": {
        "colab": {
          "base_uri": "https://localhost:8080/",
          "height": 350
        },
        "id": "yFg4pCV1O2rn",
        "outputId": "893843f3-d70f-4551-8537-059041cb0c18"
      },
      "execution_count": 197,
      "outputs": [
        {
          "output_type": "execute_result",
          "data": {
            "text/plain": [
              "          Unnamed: 0      id.orig_p      id.resp_p  flow_duration  \\\n",
              "count  123117.000000  123117.000000  123117.000000  123117.000000   \n",
              "mean    37035.089248   34639.258738    1014.305092       3.809566   \n",
              "std     30459.106367   19070.620354    5256.371994     130.005408   \n",
              "min         0.000000       0.000000       0.000000       0.000000   \n",
              "25%      6059.000000   17702.000000      21.000000       0.000001   \n",
              "50%     33100.000000   37221.000000      21.000000       0.000004   \n",
              "75%     63879.000000   50971.000000      21.000000       0.000005   \n",
              "max     94658.000000   65535.000000   65389.000000   21728.335578   \n",
              "\n",
              "        fwd_pkts_tot   bwd_pkts_tot  fwd_data_pkts_tot  bwd_data_pkts_tot  \\\n",
              "count  123117.000000  123117.000000      123117.000000      123117.000000   \n",
              "mean        2.268826       1.909509           1.471218           0.820260   \n",
              "std        22.336565      33.018311          19.635196          32.293948   \n",
              "min         0.000000       0.000000           0.000000           0.000000   \n",
              "25%         1.000000       1.000000           1.000000           0.000000   \n",
              "50%         1.000000       1.000000           1.000000           0.000000   \n",
              "75%         1.000000       1.000000           1.000000           0.000000   \n",
              "max      4345.000000   10112.000000        4345.000000       10105.000000   \n",
              "\n",
              "       fwd_pkts_per_sec  bwd_pkts_per_sec  ...    active.avg    active.std  \\\n",
              "count      1.231170e+05      1.231170e+05  ...  1.231170e+05  1.231170e+05   \n",
              "mean       3.518063e+05      3.517620e+05  ...  1.481354e+05  2.353599e+04   \n",
              "std        3.707645e+05      3.708015e+05  ...  1.613007e+06  1.477935e+06   \n",
              "min        0.000000e+00      0.000000e+00  ...  0.000000e+00  0.000000e+00   \n",
              "25%        7.454354e+01      7.288927e+01  ...  9.536740e-01  0.000000e+00   \n",
              "50%        2.467238e+05      2.467238e+05  ...  4.053116e+00  0.000000e+00   \n",
              "75%        5.242880e+05      5.242880e+05  ...  5.006790e+00  0.000000e+00   \n",
              "max        1.048576e+06      1.048576e+06  ...  4.374931e+08  4.774862e+08   \n",
              "\n",
              "           idle.min      idle.max      idle.tot      idle.avg      idle.std  \\\n",
              "count  1.231170e+05  1.231170e+05  1.231170e+05  1.231170e+05  1.231170e+05   \n",
              "mean   1.616655e+06  1.701956e+06  3.517644e+06  1.664985e+06  4.550183e+04   \n",
              "std    8.809396e+06  9.252337e+06  1.229508e+08  9.007064e+06  1.091361e+06   \n",
              "min    0.000000e+00  0.000000e+00  0.000000e+00  0.000000e+00  0.000000e+00   \n",
              "25%    0.000000e+00  0.000000e+00  0.000000e+00  0.000000e+00  0.000000e+00   \n",
              "50%    0.000000e+00  0.000000e+00  0.000000e+00  0.000000e+00  0.000000e+00   \n",
              "75%    0.000000e+00  0.000000e+00  0.000000e+00  0.000000e+00  0.000000e+00   \n",
              "max    3.000000e+08  3.000000e+08  2.096777e+10  3.000000e+08  1.208029e+08   \n",
              "\n",
              "       fwd_init_window_size  bwd_init_window_size  fwd_last_window_size  \n",
              "count         123117.000000         123117.000000         123117.000000  \n",
              "mean            6118.905123           2739.776018            751.647514  \n",
              "std            18716.313861          10018.848534           6310.183843  \n",
              "min                0.000000              0.000000              0.000000  \n",
              "25%               64.000000              0.000000             64.000000  \n",
              "50%               64.000000              0.000000             64.000000  \n",
              "75%               64.000000              0.000000             64.000000  \n",
              "max            65535.000000          65535.000000          65535.000000  \n",
              "\n",
              "[8 rows x 82 columns]"
            ],
            "text/html": [
              "\n",
              "  <div id=\"df-9723971b-896f-4604-b9ca-e14fb278462b\" class=\"colab-df-container\">\n",
              "    <div>\n",
              "<style scoped>\n",
              "    .dataframe tbody tr th:only-of-type {\n",
              "        vertical-align: middle;\n",
              "    }\n",
              "\n",
              "    .dataframe tbody tr th {\n",
              "        vertical-align: top;\n",
              "    }\n",
              "\n",
              "    .dataframe thead th {\n",
              "        text-align: right;\n",
              "    }\n",
              "</style>\n",
              "<table border=\"1\" class=\"dataframe\">\n",
              "  <thead>\n",
              "    <tr style=\"text-align: right;\">\n",
              "      <th></th>\n",
              "      <th>Unnamed: 0</th>\n",
              "      <th>id.orig_p</th>\n",
              "      <th>id.resp_p</th>\n",
              "      <th>flow_duration</th>\n",
              "      <th>fwd_pkts_tot</th>\n",
              "      <th>bwd_pkts_tot</th>\n",
              "      <th>fwd_data_pkts_tot</th>\n",
              "      <th>bwd_data_pkts_tot</th>\n",
              "      <th>fwd_pkts_per_sec</th>\n",
              "      <th>bwd_pkts_per_sec</th>\n",
              "      <th>...</th>\n",
              "      <th>active.avg</th>\n",
              "      <th>active.std</th>\n",
              "      <th>idle.min</th>\n",
              "      <th>idle.max</th>\n",
              "      <th>idle.tot</th>\n",
              "      <th>idle.avg</th>\n",
              "      <th>idle.std</th>\n",
              "      <th>fwd_init_window_size</th>\n",
              "      <th>bwd_init_window_size</th>\n",
              "      <th>fwd_last_window_size</th>\n",
              "    </tr>\n",
              "  </thead>\n",
              "  <tbody>\n",
              "    <tr>\n",
              "      <th>count</th>\n",
              "      <td>123117.000000</td>\n",
              "      <td>123117.000000</td>\n",
              "      <td>123117.000000</td>\n",
              "      <td>123117.000000</td>\n",
              "      <td>123117.000000</td>\n",
              "      <td>123117.000000</td>\n",
              "      <td>123117.000000</td>\n",
              "      <td>123117.000000</td>\n",
              "      <td>1.231170e+05</td>\n",
              "      <td>1.231170e+05</td>\n",
              "      <td>...</td>\n",
              "      <td>1.231170e+05</td>\n",
              "      <td>1.231170e+05</td>\n",
              "      <td>1.231170e+05</td>\n",
              "      <td>1.231170e+05</td>\n",
              "      <td>1.231170e+05</td>\n",
              "      <td>1.231170e+05</td>\n",
              "      <td>1.231170e+05</td>\n",
              "      <td>123117.000000</td>\n",
              "      <td>123117.000000</td>\n",
              "      <td>123117.000000</td>\n",
              "    </tr>\n",
              "    <tr>\n",
              "      <th>mean</th>\n",
              "      <td>37035.089248</td>\n",
              "      <td>34639.258738</td>\n",
              "      <td>1014.305092</td>\n",
              "      <td>3.809566</td>\n",
              "      <td>2.268826</td>\n",
              "      <td>1.909509</td>\n",
              "      <td>1.471218</td>\n",
              "      <td>0.820260</td>\n",
              "      <td>3.518063e+05</td>\n",
              "      <td>3.517620e+05</td>\n",
              "      <td>...</td>\n",
              "      <td>1.481354e+05</td>\n",
              "      <td>2.353599e+04</td>\n",
              "      <td>1.616655e+06</td>\n",
              "      <td>1.701956e+06</td>\n",
              "      <td>3.517644e+06</td>\n",
              "      <td>1.664985e+06</td>\n",
              "      <td>4.550183e+04</td>\n",
              "      <td>6118.905123</td>\n",
              "      <td>2739.776018</td>\n",
              "      <td>751.647514</td>\n",
              "    </tr>\n",
              "    <tr>\n",
              "      <th>std</th>\n",
              "      <td>30459.106367</td>\n",
              "      <td>19070.620354</td>\n",
              "      <td>5256.371994</td>\n",
              "      <td>130.005408</td>\n",
              "      <td>22.336565</td>\n",
              "      <td>33.018311</td>\n",
              "      <td>19.635196</td>\n",
              "      <td>32.293948</td>\n",
              "      <td>3.707645e+05</td>\n",
              "      <td>3.708015e+05</td>\n",
              "      <td>...</td>\n",
              "      <td>1.613007e+06</td>\n",
              "      <td>1.477935e+06</td>\n",
              "      <td>8.809396e+06</td>\n",
              "      <td>9.252337e+06</td>\n",
              "      <td>1.229508e+08</td>\n",
              "      <td>9.007064e+06</td>\n",
              "      <td>1.091361e+06</td>\n",
              "      <td>18716.313861</td>\n",
              "      <td>10018.848534</td>\n",
              "      <td>6310.183843</td>\n",
              "    </tr>\n",
              "    <tr>\n",
              "      <th>min</th>\n",
              "      <td>0.000000</td>\n",
              "      <td>0.000000</td>\n",
              "      <td>0.000000</td>\n",
              "      <td>0.000000</td>\n",
              "      <td>0.000000</td>\n",
              "      <td>0.000000</td>\n",
              "      <td>0.000000</td>\n",
              "      <td>0.000000</td>\n",
              "      <td>0.000000e+00</td>\n",
              "      <td>0.000000e+00</td>\n",
              "      <td>...</td>\n",
              "      <td>0.000000e+00</td>\n",
              "      <td>0.000000e+00</td>\n",
              "      <td>0.000000e+00</td>\n",
              "      <td>0.000000e+00</td>\n",
              "      <td>0.000000e+00</td>\n",
              "      <td>0.000000e+00</td>\n",
              "      <td>0.000000e+00</td>\n",
              "      <td>0.000000</td>\n",
              "      <td>0.000000</td>\n",
              "      <td>0.000000</td>\n",
              "    </tr>\n",
              "    <tr>\n",
              "      <th>25%</th>\n",
              "      <td>6059.000000</td>\n",
              "      <td>17702.000000</td>\n",
              "      <td>21.000000</td>\n",
              "      <td>0.000001</td>\n",
              "      <td>1.000000</td>\n",
              "      <td>1.000000</td>\n",
              "      <td>1.000000</td>\n",
              "      <td>0.000000</td>\n",
              "      <td>7.454354e+01</td>\n",
              "      <td>7.288927e+01</td>\n",
              "      <td>...</td>\n",
              "      <td>9.536740e-01</td>\n",
              "      <td>0.000000e+00</td>\n",
              "      <td>0.000000e+00</td>\n",
              "      <td>0.000000e+00</td>\n",
              "      <td>0.000000e+00</td>\n",
              "      <td>0.000000e+00</td>\n",
              "      <td>0.000000e+00</td>\n",
              "      <td>64.000000</td>\n",
              "      <td>0.000000</td>\n",
              "      <td>64.000000</td>\n",
              "    </tr>\n",
              "    <tr>\n",
              "      <th>50%</th>\n",
              "      <td>33100.000000</td>\n",
              "      <td>37221.000000</td>\n",
              "      <td>21.000000</td>\n",
              "      <td>0.000004</td>\n",
              "      <td>1.000000</td>\n",
              "      <td>1.000000</td>\n",
              "      <td>1.000000</td>\n",
              "      <td>0.000000</td>\n",
              "      <td>2.467238e+05</td>\n",
              "      <td>2.467238e+05</td>\n",
              "      <td>...</td>\n",
              "      <td>4.053116e+00</td>\n",
              "      <td>0.000000e+00</td>\n",
              "      <td>0.000000e+00</td>\n",
              "      <td>0.000000e+00</td>\n",
              "      <td>0.000000e+00</td>\n",
              "      <td>0.000000e+00</td>\n",
              "      <td>0.000000e+00</td>\n",
              "      <td>64.000000</td>\n",
              "      <td>0.000000</td>\n",
              "      <td>64.000000</td>\n",
              "    </tr>\n",
              "    <tr>\n",
              "      <th>75%</th>\n",
              "      <td>63879.000000</td>\n",
              "      <td>50971.000000</td>\n",
              "      <td>21.000000</td>\n",
              "      <td>0.000005</td>\n",
              "      <td>1.000000</td>\n",
              "      <td>1.000000</td>\n",
              "      <td>1.000000</td>\n",
              "      <td>0.000000</td>\n",
              "      <td>5.242880e+05</td>\n",
              "      <td>5.242880e+05</td>\n",
              "      <td>...</td>\n",
              "      <td>5.006790e+00</td>\n",
              "      <td>0.000000e+00</td>\n",
              "      <td>0.000000e+00</td>\n",
              "      <td>0.000000e+00</td>\n",
              "      <td>0.000000e+00</td>\n",
              "      <td>0.000000e+00</td>\n",
              "      <td>0.000000e+00</td>\n",
              "      <td>64.000000</td>\n",
              "      <td>0.000000</td>\n",
              "      <td>64.000000</td>\n",
              "    </tr>\n",
              "    <tr>\n",
              "      <th>max</th>\n",
              "      <td>94658.000000</td>\n",
              "      <td>65535.000000</td>\n",
              "      <td>65389.000000</td>\n",
              "      <td>21728.335578</td>\n",
              "      <td>4345.000000</td>\n",
              "      <td>10112.000000</td>\n",
              "      <td>4345.000000</td>\n",
              "      <td>10105.000000</td>\n",
              "      <td>1.048576e+06</td>\n",
              "      <td>1.048576e+06</td>\n",
              "      <td>...</td>\n",
              "      <td>4.374931e+08</td>\n",
              "      <td>4.774862e+08</td>\n",
              "      <td>3.000000e+08</td>\n",
              "      <td>3.000000e+08</td>\n",
              "      <td>2.096777e+10</td>\n",
              "      <td>3.000000e+08</td>\n",
              "      <td>1.208029e+08</td>\n",
              "      <td>65535.000000</td>\n",
              "      <td>65535.000000</td>\n",
              "      <td>65535.000000</td>\n",
              "    </tr>\n",
              "  </tbody>\n",
              "</table>\n",
              "<p>8 rows × 82 columns</p>\n",
              "</div>\n",
              "    <div class=\"colab-df-buttons\">\n",
              "\n",
              "  <div class=\"colab-df-container\">\n",
              "    <button class=\"colab-df-convert\" onclick=\"convertToInteractive('df-9723971b-896f-4604-b9ca-e14fb278462b')\"\n",
              "            title=\"Convert this dataframe to an interactive table.\"\n",
              "            style=\"display:none;\">\n",
              "\n",
              "  <svg xmlns=\"http://www.w3.org/2000/svg\" height=\"24px\" viewBox=\"0 -960 960 960\">\n",
              "    <path d=\"M120-120v-720h720v720H120Zm60-500h600v-160H180v160Zm220 220h160v-160H400v160Zm0 220h160v-160H400v160ZM180-400h160v-160H180v160Zm440 0h160v-160H620v160ZM180-180h160v-160H180v160Zm440 0h160v-160H620v160Z\"/>\n",
              "  </svg>\n",
              "    </button>\n",
              "\n",
              "  <style>\n",
              "    .colab-df-container {\n",
              "      display:flex;\n",
              "      gap: 12px;\n",
              "    }\n",
              "\n",
              "    .colab-df-convert {\n",
              "      background-color: #E8F0FE;\n",
              "      border: none;\n",
              "      border-radius: 50%;\n",
              "      cursor: pointer;\n",
              "      display: none;\n",
              "      fill: #1967D2;\n",
              "      height: 32px;\n",
              "      padding: 0 0 0 0;\n",
              "      width: 32px;\n",
              "    }\n",
              "\n",
              "    .colab-df-convert:hover {\n",
              "      background-color: #E2EBFA;\n",
              "      box-shadow: 0px 1px 2px rgba(60, 64, 67, 0.3), 0px 1px 3px 1px rgba(60, 64, 67, 0.15);\n",
              "      fill: #174EA6;\n",
              "    }\n",
              "\n",
              "    .colab-df-buttons div {\n",
              "      margin-bottom: 4px;\n",
              "    }\n",
              "\n",
              "    [theme=dark] .colab-df-convert {\n",
              "      background-color: #3B4455;\n",
              "      fill: #D2E3FC;\n",
              "    }\n",
              "\n",
              "    [theme=dark] .colab-df-convert:hover {\n",
              "      background-color: #434B5C;\n",
              "      box-shadow: 0px 1px 3px 1px rgba(0, 0, 0, 0.15);\n",
              "      filter: drop-shadow(0px 1px 2px rgba(0, 0, 0, 0.3));\n",
              "      fill: #FFFFFF;\n",
              "    }\n",
              "  </style>\n",
              "\n",
              "    <script>\n",
              "      const buttonEl =\n",
              "        document.querySelector('#df-9723971b-896f-4604-b9ca-e14fb278462b button.colab-df-convert');\n",
              "      buttonEl.style.display =\n",
              "        google.colab.kernel.accessAllowed ? 'block' : 'none';\n",
              "\n",
              "      async function convertToInteractive(key) {\n",
              "        const element = document.querySelector('#df-9723971b-896f-4604-b9ca-e14fb278462b');\n",
              "        const dataTable =\n",
              "          await google.colab.kernel.invokeFunction('convertToInteractive',\n",
              "                                                    [key], {});\n",
              "        if (!dataTable) return;\n",
              "\n",
              "        const docLinkHtml = 'Like what you see? Visit the ' +\n",
              "          '<a target=\"_blank\" href=https://colab.research.google.com/notebooks/data_table.ipynb>data table notebook</a>'\n",
              "          + ' to learn more about interactive tables.';\n",
              "        element.innerHTML = '';\n",
              "        dataTable['output_type'] = 'display_data';\n",
              "        await google.colab.output.renderOutput(dataTable, element);\n",
              "        const docLink = document.createElement('div');\n",
              "        docLink.innerHTML = docLinkHtml;\n",
              "        element.appendChild(docLink);\n",
              "      }\n",
              "    </script>\n",
              "  </div>\n",
              "\n",
              "\n",
              "<div id=\"df-ad208ab0-b78a-47b4-902f-7e2abf2b02f2\">\n",
              "  <button class=\"colab-df-quickchart\" onclick=\"quickchart('df-ad208ab0-b78a-47b4-902f-7e2abf2b02f2')\"\n",
              "            title=\"Suggest charts\"\n",
              "            style=\"display:none;\">\n",
              "\n",
              "<svg xmlns=\"http://www.w3.org/2000/svg\" height=\"24px\"viewBox=\"0 0 24 24\"\n",
              "     width=\"24px\">\n",
              "    <g>\n",
              "        <path d=\"M19 3H5c-1.1 0-2 .9-2 2v14c0 1.1.9 2 2 2h14c1.1 0 2-.9 2-2V5c0-1.1-.9-2-2-2zM9 17H7v-7h2v7zm4 0h-2V7h2v10zm4 0h-2v-4h2v4z\"/>\n",
              "    </g>\n",
              "</svg>\n",
              "  </button>\n",
              "\n",
              "<style>\n",
              "  .colab-df-quickchart {\n",
              "      --bg-color: #E8F0FE;\n",
              "      --fill-color: #1967D2;\n",
              "      --hover-bg-color: #E2EBFA;\n",
              "      --hover-fill-color: #174EA6;\n",
              "      --disabled-fill-color: #AAA;\n",
              "      --disabled-bg-color: #DDD;\n",
              "  }\n",
              "\n",
              "  [theme=dark] .colab-df-quickchart {\n",
              "      --bg-color: #3B4455;\n",
              "      --fill-color: #D2E3FC;\n",
              "      --hover-bg-color: #434B5C;\n",
              "      --hover-fill-color: #FFFFFF;\n",
              "      --disabled-bg-color: #3B4455;\n",
              "      --disabled-fill-color: #666;\n",
              "  }\n",
              "\n",
              "  .colab-df-quickchart {\n",
              "    background-color: var(--bg-color);\n",
              "    border: none;\n",
              "    border-radius: 50%;\n",
              "    cursor: pointer;\n",
              "    display: none;\n",
              "    fill: var(--fill-color);\n",
              "    height: 32px;\n",
              "    padding: 0;\n",
              "    width: 32px;\n",
              "  }\n",
              "\n",
              "  .colab-df-quickchart:hover {\n",
              "    background-color: var(--hover-bg-color);\n",
              "    box-shadow: 0 1px 2px rgba(60, 64, 67, 0.3), 0 1px 3px 1px rgba(60, 64, 67, 0.15);\n",
              "    fill: var(--button-hover-fill-color);\n",
              "  }\n",
              "\n",
              "  .colab-df-quickchart-complete:disabled,\n",
              "  .colab-df-quickchart-complete:disabled:hover {\n",
              "    background-color: var(--disabled-bg-color);\n",
              "    fill: var(--disabled-fill-color);\n",
              "    box-shadow: none;\n",
              "  }\n",
              "\n",
              "  .colab-df-spinner {\n",
              "    border: 2px solid var(--fill-color);\n",
              "    border-color: transparent;\n",
              "    border-bottom-color: var(--fill-color);\n",
              "    animation:\n",
              "      spin 1s steps(1) infinite;\n",
              "  }\n",
              "\n",
              "  @keyframes spin {\n",
              "    0% {\n",
              "      border-color: transparent;\n",
              "      border-bottom-color: var(--fill-color);\n",
              "      border-left-color: var(--fill-color);\n",
              "    }\n",
              "    20% {\n",
              "      border-color: transparent;\n",
              "      border-left-color: var(--fill-color);\n",
              "      border-top-color: var(--fill-color);\n",
              "    }\n",
              "    30% {\n",
              "      border-color: transparent;\n",
              "      border-left-color: var(--fill-color);\n",
              "      border-top-color: var(--fill-color);\n",
              "      border-right-color: var(--fill-color);\n",
              "    }\n",
              "    40% {\n",
              "      border-color: transparent;\n",
              "      border-right-color: var(--fill-color);\n",
              "      border-top-color: var(--fill-color);\n",
              "    }\n",
              "    60% {\n",
              "      border-color: transparent;\n",
              "      border-right-color: var(--fill-color);\n",
              "    }\n",
              "    80% {\n",
              "      border-color: transparent;\n",
              "      border-right-color: var(--fill-color);\n",
              "      border-bottom-color: var(--fill-color);\n",
              "    }\n",
              "    90% {\n",
              "      border-color: transparent;\n",
              "      border-bottom-color: var(--fill-color);\n",
              "    }\n",
              "  }\n",
              "</style>\n",
              "\n",
              "  <script>\n",
              "    async function quickchart(key) {\n",
              "      const quickchartButtonEl =\n",
              "        document.querySelector('#' + key + ' button');\n",
              "      quickchartButtonEl.disabled = true;  // To prevent multiple clicks.\n",
              "      quickchartButtonEl.classList.add('colab-df-spinner');\n",
              "      try {\n",
              "        const charts = await google.colab.kernel.invokeFunction(\n",
              "            'suggestCharts', [key], {});\n",
              "      } catch (error) {\n",
              "        console.error('Error during call to suggestCharts:', error);\n",
              "      }\n",
              "      quickchartButtonEl.classList.remove('colab-df-spinner');\n",
              "      quickchartButtonEl.classList.add('colab-df-quickchart-complete');\n",
              "    }\n",
              "    (() => {\n",
              "      let quickchartButtonEl =\n",
              "        document.querySelector('#df-ad208ab0-b78a-47b4-902f-7e2abf2b02f2 button');\n",
              "      quickchartButtonEl.style.display =\n",
              "        google.colab.kernel.accessAllowed ? 'block' : 'none';\n",
              "    })();\n",
              "  </script>\n",
              "</div>\n",
              "\n",
              "    </div>\n",
              "  </div>\n"
            ],
            "application/vnd.google.colaboratory.intrinsic+json": {
              "type": "dataframe"
            }
          },
          "metadata": {},
          "execution_count": 197
        }
      ]
    },
    {
      "cell_type": "code",
      "source": [
        "df.drop(['Unnamed: 0'], axis = 1 , inplace = True)"
      ],
      "metadata": {
        "id": "AHQg7sfbLy_v"
      },
      "execution_count": 198,
      "outputs": []
    },
    {
      "cell_type": "code",
      "source": [
        "len(df['Attack_type'].unique())"
      ],
      "metadata": {
        "colab": {
          "base_uri": "https://localhost:8080/"
        },
        "id": "74RoqeolJ8px",
        "outputId": "3033a7db-5188-4106-d710-ecf011139f60"
      },
      "execution_count": 199,
      "outputs": [
        {
          "output_type": "execute_result",
          "data": {
            "text/plain": [
              "12"
            ]
          },
          "metadata": {},
          "execution_count": 199
        }
      ]
    },
    {
      "cell_type": "code",
      "source": [
        "len(df['proto'].unique())"
      ],
      "metadata": {
        "colab": {
          "base_uri": "https://localhost:8080/"
        },
        "id": "o4WtL0JHOk7G",
        "outputId": "d2727397-f61d-4d8b-d1c0-ff524fe0f4a2"
      },
      "execution_count": 200,
      "outputs": [
        {
          "output_type": "execute_result",
          "data": {
            "text/plain": [
              "3"
            ]
          },
          "metadata": {},
          "execution_count": 200
        }
      ]
    },
    {
      "cell_type": "code",
      "source": [
        "len(df['service'].unique())"
      ],
      "metadata": {
        "colab": {
          "base_uri": "https://localhost:8080/"
        },
        "id": "RXLoKJThOmIW",
        "outputId": "61389ce5-1d1f-4a43-cd2c-2691261ec5f2"
      },
      "execution_count": 201,
      "outputs": [
        {
          "output_type": "execute_result",
          "data": {
            "text/plain": [
              "10"
            ]
          },
          "metadata": {},
          "execution_count": 201
        }
      ]
    },
    {
      "cell_type": "code",
      "source": [
        "df['Attack_type'].value_counts()\n",
        "\n"
      ],
      "metadata": {
        "colab": {
          "base_uri": "https://localhost:8080/"
        },
        "id": "9DT-IQBoKKiy",
        "outputId": "c85477c6-bae1-41c2-fe39-693614f85e1c"
      },
      "execution_count": 202,
      "outputs": [
        {
          "output_type": "execute_result",
          "data": {
            "text/plain": [
              "Attack_type\n",
              "DOS_SYN_Hping                 94659\n",
              "Thing_Speak                    8108\n",
              "ARP_poisioning                 7750\n",
              "MQTT_Publish                   4146\n",
              "NMAP_UDP_SCAN                  2590\n",
              "NMAP_XMAS_TREE_SCAN            2010\n",
              "NMAP_OS_DETECTION              2000\n",
              "NMAP_TCP_scan                  1002\n",
              "DDOS_Slowloris                  534\n",
              "Wipro_bulb                      253\n",
              "Metasploit_Brute_Force_SSH       37\n",
              "NMAP_FIN_SCAN                    28\n",
              "Name: count, dtype: int64"
            ]
          },
          "metadata": {},
          "execution_count": 202
        }
      ]
    },
    {
      "cell_type": "code",
      "source": [
        "df['proto'].value_counts()"
      ],
      "metadata": {
        "colab": {
          "base_uri": "https://localhost:8080/"
        },
        "id": "v43vLFilOpTn",
        "outputId": "08e1374a-856d-4c5e-c764-0a4492f96da0"
      },
      "execution_count": 203,
      "outputs": [
        {
          "output_type": "execute_result",
          "data": {
            "text/plain": [
              "proto\n",
              "tcp     110427\n",
              "udp      12633\n",
              "icmp        57\n",
              "Name: count, dtype: int64"
            ]
          },
          "metadata": {},
          "execution_count": 203
        }
      ]
    },
    {
      "cell_type": "code",
      "source": [
        "df['service'].value_counts()"
      ],
      "metadata": {
        "colab": {
          "base_uri": "https://localhost:8080/"
        },
        "id": "qZTlU3NUOqxe",
        "outputId": "ab1462c4-e03b-4a98-99cf-793c38524139"
      },
      "execution_count": 204,
      "outputs": [
        {
          "output_type": "execute_result",
          "data": {
            "text/plain": [
              "service\n",
              "-         102861\n",
              "dns         9753\n",
              "mqtt        4132\n",
              "http        3464\n",
              "ssl         2663\n",
              "ntp          121\n",
              "dhcp          50\n",
              "irc           43\n",
              "ssh           28\n",
              "radius         2\n",
              "Name: count, dtype: int64"
            ]
          },
          "metadata": {},
          "execution_count": 204
        }
      ]
    },
    {
      "cell_type": "code",
      "source": [
        "df.isna().sum().sum()"
      ],
      "metadata": {
        "colab": {
          "base_uri": "https://localhost:8080/"
        },
        "id": "whV3wxqhMbch",
        "outputId": "9a07e649-94e9-4c1b-ffa0-823a87c0036a"
      },
      "execution_count": 205,
      "outputs": [
        {
          "output_type": "execute_result",
          "data": {
            "text/plain": [
              "0"
            ]
          },
          "metadata": {},
          "execution_count": 205
        }
      ]
    },
    {
      "cell_type": "code",
      "source": [
        "df_duplicates = df[df.duplicated()]\n",
        "df_duplicates"
      ],
      "metadata": {
        "colab": {
          "base_uri": "https://localhost:8080/",
          "height": 444
        },
        "id": "GwCDxRQaMkVw",
        "outputId": "250ca3c3-8c02-4741-d093-54e225defa79"
      },
      "execution_count": 206,
      "outputs": [
        {
          "output_type": "execute_result",
          "data": {
            "text/plain": [
              "        id.orig_p  id.resp_p proto service  flow_duration  fwd_pkts_tot  \\\n",
              "512         36685       1883   tcp       -            0.0             1   \n",
              "513         36685       1883   tcp       -            0.0             1   \n",
              "514         36685       1883   tcp       -            0.0             1   \n",
              "515         36685       1883   tcp       -            0.0             1   \n",
              "4324         5353       5353   udp     dns            0.0             1   \n",
              "...           ...        ...   ...     ...            ...           ...   \n",
              "119217       5353       5353   udp     dns            0.0             1   \n",
              "119267      59342         80   tcp       -            0.0             1   \n",
              "119706       5353       5353   udp     dns            0.0             1   \n",
              "119833       5353       5353   udp     dns            0.0             1   \n",
              "119834       5353       5353   udp     dns            0.0             1   \n",
              "\n",
              "        bwd_pkts_tot  fwd_data_pkts_tot  bwd_data_pkts_tot  fwd_pkts_per_sec  \\\n",
              "512                0                  0                  0               0.0   \n",
              "513                0                  0                  0               0.0   \n",
              "514                0                  0                  0               0.0   \n",
              "515                0                  0                  0               0.0   \n",
              "4324               0                  1                  0               0.0   \n",
              "...              ...                ...                ...               ...   \n",
              "119217             0                  1                  0               0.0   \n",
              "119267             0                  0                  0               0.0   \n",
              "119706             0                  1                  0               0.0   \n",
              "119833             0                  1                  0               0.0   \n",
              "119834             0                  1                  0               0.0   \n",
              "\n",
              "        ...  active.std  idle.min  idle.max  idle.tot  idle.avg  idle.std  \\\n",
              "512     ...         0.0       0.0       0.0       0.0       0.0       0.0   \n",
              "513     ...         0.0       0.0       0.0       0.0       0.0       0.0   \n",
              "514     ...         0.0       0.0       0.0       0.0       0.0       0.0   \n",
              "515     ...         0.0       0.0       0.0       0.0       0.0       0.0   \n",
              "4324    ...         0.0       0.0       0.0       0.0       0.0       0.0   \n",
              "...     ...         ...       ...       ...       ...       ...       ...   \n",
              "119217  ...         0.0       0.0       0.0       0.0       0.0       0.0   \n",
              "119267  ...         0.0       0.0       0.0       0.0       0.0       0.0   \n",
              "119706  ...         0.0       0.0       0.0       0.0       0.0       0.0   \n",
              "119833  ...         0.0       0.0       0.0       0.0       0.0       0.0   \n",
              "119834  ...         0.0       0.0       0.0       0.0       0.0       0.0   \n",
              "\n",
              "        fwd_init_window_size  bwd_init_window_size  fwd_last_window_size  \\\n",
              "512                      502                     0                   502   \n",
              "513                      502                     0                   502   \n",
              "514                      502                     0                   502   \n",
              "515                      502                     0                   502   \n",
              "4324                       0                     0                     0   \n",
              "...                      ...                   ...                   ...   \n",
              "119217                     0                     0                     0   \n",
              "119267                 64240                     0                 64240   \n",
              "119706                     0                     0                     0   \n",
              "119833                     0                     0                     0   \n",
              "119834                     0                     0                     0   \n",
              "\n",
              "          Attack_type  \n",
              "512      MQTT_Publish  \n",
              "513      MQTT_Publish  \n",
              "514      MQTT_Publish  \n",
              "515      MQTT_Publish  \n",
              "4324      Thing_Speak  \n",
              "...               ...  \n",
              "119217  NMAP_UDP_SCAN  \n",
              "119267  NMAP_UDP_SCAN  \n",
              "119706  NMAP_UDP_SCAN  \n",
              "119833  NMAP_UDP_SCAN  \n",
              "119834  NMAP_UDP_SCAN  \n",
              "\n",
              "[5195 rows x 84 columns]"
            ],
            "text/html": [
              "\n",
              "  <div id=\"df-c071bb4e-8e74-4210-bf27-54cfc1977843\" class=\"colab-df-container\">\n",
              "    <div>\n",
              "<style scoped>\n",
              "    .dataframe tbody tr th:only-of-type {\n",
              "        vertical-align: middle;\n",
              "    }\n",
              "\n",
              "    .dataframe tbody tr th {\n",
              "        vertical-align: top;\n",
              "    }\n",
              "\n",
              "    .dataframe thead th {\n",
              "        text-align: right;\n",
              "    }\n",
              "</style>\n",
              "<table border=\"1\" class=\"dataframe\">\n",
              "  <thead>\n",
              "    <tr style=\"text-align: right;\">\n",
              "      <th></th>\n",
              "      <th>id.orig_p</th>\n",
              "      <th>id.resp_p</th>\n",
              "      <th>proto</th>\n",
              "      <th>service</th>\n",
              "      <th>flow_duration</th>\n",
              "      <th>fwd_pkts_tot</th>\n",
              "      <th>bwd_pkts_tot</th>\n",
              "      <th>fwd_data_pkts_tot</th>\n",
              "      <th>bwd_data_pkts_tot</th>\n",
              "      <th>fwd_pkts_per_sec</th>\n",
              "      <th>...</th>\n",
              "      <th>active.std</th>\n",
              "      <th>idle.min</th>\n",
              "      <th>idle.max</th>\n",
              "      <th>idle.tot</th>\n",
              "      <th>idle.avg</th>\n",
              "      <th>idle.std</th>\n",
              "      <th>fwd_init_window_size</th>\n",
              "      <th>bwd_init_window_size</th>\n",
              "      <th>fwd_last_window_size</th>\n",
              "      <th>Attack_type</th>\n",
              "    </tr>\n",
              "  </thead>\n",
              "  <tbody>\n",
              "    <tr>\n",
              "      <th>512</th>\n",
              "      <td>36685</td>\n",
              "      <td>1883</td>\n",
              "      <td>tcp</td>\n",
              "      <td>-</td>\n",
              "      <td>0.0</td>\n",
              "      <td>1</td>\n",
              "      <td>0</td>\n",
              "      <td>0</td>\n",
              "      <td>0</td>\n",
              "      <td>0.0</td>\n",
              "      <td>...</td>\n",
              "      <td>0.0</td>\n",
              "      <td>0.0</td>\n",
              "      <td>0.0</td>\n",
              "      <td>0.0</td>\n",
              "      <td>0.0</td>\n",
              "      <td>0.0</td>\n",
              "      <td>502</td>\n",
              "      <td>0</td>\n",
              "      <td>502</td>\n",
              "      <td>MQTT_Publish</td>\n",
              "    </tr>\n",
              "    <tr>\n",
              "      <th>513</th>\n",
              "      <td>36685</td>\n",
              "      <td>1883</td>\n",
              "      <td>tcp</td>\n",
              "      <td>-</td>\n",
              "      <td>0.0</td>\n",
              "      <td>1</td>\n",
              "      <td>0</td>\n",
              "      <td>0</td>\n",
              "      <td>0</td>\n",
              "      <td>0.0</td>\n",
              "      <td>...</td>\n",
              "      <td>0.0</td>\n",
              "      <td>0.0</td>\n",
              "      <td>0.0</td>\n",
              "      <td>0.0</td>\n",
              "      <td>0.0</td>\n",
              "      <td>0.0</td>\n",
              "      <td>502</td>\n",
              "      <td>0</td>\n",
              "      <td>502</td>\n",
              "      <td>MQTT_Publish</td>\n",
              "    </tr>\n",
              "    <tr>\n",
              "      <th>514</th>\n",
              "      <td>36685</td>\n",
              "      <td>1883</td>\n",
              "      <td>tcp</td>\n",
              "      <td>-</td>\n",
              "      <td>0.0</td>\n",
              "      <td>1</td>\n",
              "      <td>0</td>\n",
              "      <td>0</td>\n",
              "      <td>0</td>\n",
              "      <td>0.0</td>\n",
              "      <td>...</td>\n",
              "      <td>0.0</td>\n",
              "      <td>0.0</td>\n",
              "      <td>0.0</td>\n",
              "      <td>0.0</td>\n",
              "      <td>0.0</td>\n",
              "      <td>0.0</td>\n",
              "      <td>502</td>\n",
              "      <td>0</td>\n",
              "      <td>502</td>\n",
              "      <td>MQTT_Publish</td>\n",
              "    </tr>\n",
              "    <tr>\n",
              "      <th>515</th>\n",
              "      <td>36685</td>\n",
              "      <td>1883</td>\n",
              "      <td>tcp</td>\n",
              "      <td>-</td>\n",
              "      <td>0.0</td>\n",
              "      <td>1</td>\n",
              "      <td>0</td>\n",
              "      <td>0</td>\n",
              "      <td>0</td>\n",
              "      <td>0.0</td>\n",
              "      <td>...</td>\n",
              "      <td>0.0</td>\n",
              "      <td>0.0</td>\n",
              "      <td>0.0</td>\n",
              "      <td>0.0</td>\n",
              "      <td>0.0</td>\n",
              "      <td>0.0</td>\n",
              "      <td>502</td>\n",
              "      <td>0</td>\n",
              "      <td>502</td>\n",
              "      <td>MQTT_Publish</td>\n",
              "    </tr>\n",
              "    <tr>\n",
              "      <th>4324</th>\n",
              "      <td>5353</td>\n",
              "      <td>5353</td>\n",
              "      <td>udp</td>\n",
              "      <td>dns</td>\n",
              "      <td>0.0</td>\n",
              "      <td>1</td>\n",
              "      <td>0</td>\n",
              "      <td>1</td>\n",
              "      <td>0</td>\n",
              "      <td>0.0</td>\n",
              "      <td>...</td>\n",
              "      <td>0.0</td>\n",
              "      <td>0.0</td>\n",
              "      <td>0.0</td>\n",
              "      <td>0.0</td>\n",
              "      <td>0.0</td>\n",
              "      <td>0.0</td>\n",
              "      <td>0</td>\n",
              "      <td>0</td>\n",
              "      <td>0</td>\n",
              "      <td>Thing_Speak</td>\n",
              "    </tr>\n",
              "    <tr>\n",
              "      <th>...</th>\n",
              "      <td>...</td>\n",
              "      <td>...</td>\n",
              "      <td>...</td>\n",
              "      <td>...</td>\n",
              "      <td>...</td>\n",
              "      <td>...</td>\n",
              "      <td>...</td>\n",
              "      <td>...</td>\n",
              "      <td>...</td>\n",
              "      <td>...</td>\n",
              "      <td>...</td>\n",
              "      <td>...</td>\n",
              "      <td>...</td>\n",
              "      <td>...</td>\n",
              "      <td>...</td>\n",
              "      <td>...</td>\n",
              "      <td>...</td>\n",
              "      <td>...</td>\n",
              "      <td>...</td>\n",
              "      <td>...</td>\n",
              "      <td>...</td>\n",
              "    </tr>\n",
              "    <tr>\n",
              "      <th>119217</th>\n",
              "      <td>5353</td>\n",
              "      <td>5353</td>\n",
              "      <td>udp</td>\n",
              "      <td>dns</td>\n",
              "      <td>0.0</td>\n",
              "      <td>1</td>\n",
              "      <td>0</td>\n",
              "      <td>1</td>\n",
              "      <td>0</td>\n",
              "      <td>0.0</td>\n",
              "      <td>...</td>\n",
              "      <td>0.0</td>\n",
              "      <td>0.0</td>\n",
              "      <td>0.0</td>\n",
              "      <td>0.0</td>\n",
              "      <td>0.0</td>\n",
              "      <td>0.0</td>\n",
              "      <td>0</td>\n",
              "      <td>0</td>\n",
              "      <td>0</td>\n",
              "      <td>NMAP_UDP_SCAN</td>\n",
              "    </tr>\n",
              "    <tr>\n",
              "      <th>119267</th>\n",
              "      <td>59342</td>\n",
              "      <td>80</td>\n",
              "      <td>tcp</td>\n",
              "      <td>-</td>\n",
              "      <td>0.0</td>\n",
              "      <td>1</td>\n",
              "      <td>0</td>\n",
              "      <td>0</td>\n",
              "      <td>0</td>\n",
              "      <td>0.0</td>\n",
              "      <td>...</td>\n",
              "      <td>0.0</td>\n",
              "      <td>0.0</td>\n",
              "      <td>0.0</td>\n",
              "      <td>0.0</td>\n",
              "      <td>0.0</td>\n",
              "      <td>0.0</td>\n",
              "      <td>64240</td>\n",
              "      <td>0</td>\n",
              "      <td>64240</td>\n",
              "      <td>NMAP_UDP_SCAN</td>\n",
              "    </tr>\n",
              "    <tr>\n",
              "      <th>119706</th>\n",
              "      <td>5353</td>\n",
              "      <td>5353</td>\n",
              "      <td>udp</td>\n",
              "      <td>dns</td>\n",
              "      <td>0.0</td>\n",
              "      <td>1</td>\n",
              "      <td>0</td>\n",
              "      <td>1</td>\n",
              "      <td>0</td>\n",
              "      <td>0.0</td>\n",
              "      <td>...</td>\n",
              "      <td>0.0</td>\n",
              "      <td>0.0</td>\n",
              "      <td>0.0</td>\n",
              "      <td>0.0</td>\n",
              "      <td>0.0</td>\n",
              "      <td>0.0</td>\n",
              "      <td>0</td>\n",
              "      <td>0</td>\n",
              "      <td>0</td>\n",
              "      <td>NMAP_UDP_SCAN</td>\n",
              "    </tr>\n",
              "    <tr>\n",
              "      <th>119833</th>\n",
              "      <td>5353</td>\n",
              "      <td>5353</td>\n",
              "      <td>udp</td>\n",
              "      <td>dns</td>\n",
              "      <td>0.0</td>\n",
              "      <td>1</td>\n",
              "      <td>0</td>\n",
              "      <td>1</td>\n",
              "      <td>0</td>\n",
              "      <td>0.0</td>\n",
              "      <td>...</td>\n",
              "      <td>0.0</td>\n",
              "      <td>0.0</td>\n",
              "      <td>0.0</td>\n",
              "      <td>0.0</td>\n",
              "      <td>0.0</td>\n",
              "      <td>0.0</td>\n",
              "      <td>0</td>\n",
              "      <td>0</td>\n",
              "      <td>0</td>\n",
              "      <td>NMAP_UDP_SCAN</td>\n",
              "    </tr>\n",
              "    <tr>\n",
              "      <th>119834</th>\n",
              "      <td>5353</td>\n",
              "      <td>5353</td>\n",
              "      <td>udp</td>\n",
              "      <td>dns</td>\n",
              "      <td>0.0</td>\n",
              "      <td>1</td>\n",
              "      <td>0</td>\n",
              "      <td>1</td>\n",
              "      <td>0</td>\n",
              "      <td>0.0</td>\n",
              "      <td>...</td>\n",
              "      <td>0.0</td>\n",
              "      <td>0.0</td>\n",
              "      <td>0.0</td>\n",
              "      <td>0.0</td>\n",
              "      <td>0.0</td>\n",
              "      <td>0.0</td>\n",
              "      <td>0</td>\n",
              "      <td>0</td>\n",
              "      <td>0</td>\n",
              "      <td>NMAP_UDP_SCAN</td>\n",
              "    </tr>\n",
              "  </tbody>\n",
              "</table>\n",
              "<p>5195 rows × 84 columns</p>\n",
              "</div>\n",
              "    <div class=\"colab-df-buttons\">\n",
              "\n",
              "  <div class=\"colab-df-container\">\n",
              "    <button class=\"colab-df-convert\" onclick=\"convertToInteractive('df-c071bb4e-8e74-4210-bf27-54cfc1977843')\"\n",
              "            title=\"Convert this dataframe to an interactive table.\"\n",
              "            style=\"display:none;\">\n",
              "\n",
              "  <svg xmlns=\"http://www.w3.org/2000/svg\" height=\"24px\" viewBox=\"0 -960 960 960\">\n",
              "    <path d=\"M120-120v-720h720v720H120Zm60-500h600v-160H180v160Zm220 220h160v-160H400v160Zm0 220h160v-160H400v160ZM180-400h160v-160H180v160Zm440 0h160v-160H620v160ZM180-180h160v-160H180v160Zm440 0h160v-160H620v160Z\"/>\n",
              "  </svg>\n",
              "    </button>\n",
              "\n",
              "  <style>\n",
              "    .colab-df-container {\n",
              "      display:flex;\n",
              "      gap: 12px;\n",
              "    }\n",
              "\n",
              "    .colab-df-convert {\n",
              "      background-color: #E8F0FE;\n",
              "      border: none;\n",
              "      border-radius: 50%;\n",
              "      cursor: pointer;\n",
              "      display: none;\n",
              "      fill: #1967D2;\n",
              "      height: 32px;\n",
              "      padding: 0 0 0 0;\n",
              "      width: 32px;\n",
              "    }\n",
              "\n",
              "    .colab-df-convert:hover {\n",
              "      background-color: #E2EBFA;\n",
              "      box-shadow: 0px 1px 2px rgba(60, 64, 67, 0.3), 0px 1px 3px 1px rgba(60, 64, 67, 0.15);\n",
              "      fill: #174EA6;\n",
              "    }\n",
              "\n",
              "    .colab-df-buttons div {\n",
              "      margin-bottom: 4px;\n",
              "    }\n",
              "\n",
              "    [theme=dark] .colab-df-convert {\n",
              "      background-color: #3B4455;\n",
              "      fill: #D2E3FC;\n",
              "    }\n",
              "\n",
              "    [theme=dark] .colab-df-convert:hover {\n",
              "      background-color: #434B5C;\n",
              "      box-shadow: 0px 1px 3px 1px rgba(0, 0, 0, 0.15);\n",
              "      filter: drop-shadow(0px 1px 2px rgba(0, 0, 0, 0.3));\n",
              "      fill: #FFFFFF;\n",
              "    }\n",
              "  </style>\n",
              "\n",
              "    <script>\n",
              "      const buttonEl =\n",
              "        document.querySelector('#df-c071bb4e-8e74-4210-bf27-54cfc1977843 button.colab-df-convert');\n",
              "      buttonEl.style.display =\n",
              "        google.colab.kernel.accessAllowed ? 'block' : 'none';\n",
              "\n",
              "      async function convertToInteractive(key) {\n",
              "        const element = document.querySelector('#df-c071bb4e-8e74-4210-bf27-54cfc1977843');\n",
              "        const dataTable =\n",
              "          await google.colab.kernel.invokeFunction('convertToInteractive',\n",
              "                                                    [key], {});\n",
              "        if (!dataTable) return;\n",
              "\n",
              "        const docLinkHtml = 'Like what you see? Visit the ' +\n",
              "          '<a target=\"_blank\" href=https://colab.research.google.com/notebooks/data_table.ipynb>data table notebook</a>'\n",
              "          + ' to learn more about interactive tables.';\n",
              "        element.innerHTML = '';\n",
              "        dataTable['output_type'] = 'display_data';\n",
              "        await google.colab.output.renderOutput(dataTable, element);\n",
              "        const docLink = document.createElement('div');\n",
              "        docLink.innerHTML = docLinkHtml;\n",
              "        element.appendChild(docLink);\n",
              "      }\n",
              "    </script>\n",
              "  </div>\n",
              "\n",
              "\n",
              "<div id=\"df-87cbef4b-bf4b-4e10-b7ab-3c0f2ddfb7f9\">\n",
              "  <button class=\"colab-df-quickchart\" onclick=\"quickchart('df-87cbef4b-bf4b-4e10-b7ab-3c0f2ddfb7f9')\"\n",
              "            title=\"Suggest charts\"\n",
              "            style=\"display:none;\">\n",
              "\n",
              "<svg xmlns=\"http://www.w3.org/2000/svg\" height=\"24px\"viewBox=\"0 0 24 24\"\n",
              "     width=\"24px\">\n",
              "    <g>\n",
              "        <path d=\"M19 3H5c-1.1 0-2 .9-2 2v14c0 1.1.9 2 2 2h14c1.1 0 2-.9 2-2V5c0-1.1-.9-2-2-2zM9 17H7v-7h2v7zm4 0h-2V7h2v10zm4 0h-2v-4h2v4z\"/>\n",
              "    </g>\n",
              "</svg>\n",
              "  </button>\n",
              "\n",
              "<style>\n",
              "  .colab-df-quickchart {\n",
              "      --bg-color: #E8F0FE;\n",
              "      --fill-color: #1967D2;\n",
              "      --hover-bg-color: #E2EBFA;\n",
              "      --hover-fill-color: #174EA6;\n",
              "      --disabled-fill-color: #AAA;\n",
              "      --disabled-bg-color: #DDD;\n",
              "  }\n",
              "\n",
              "  [theme=dark] .colab-df-quickchart {\n",
              "      --bg-color: #3B4455;\n",
              "      --fill-color: #D2E3FC;\n",
              "      --hover-bg-color: #434B5C;\n",
              "      --hover-fill-color: #FFFFFF;\n",
              "      --disabled-bg-color: #3B4455;\n",
              "      --disabled-fill-color: #666;\n",
              "  }\n",
              "\n",
              "  .colab-df-quickchart {\n",
              "    background-color: var(--bg-color);\n",
              "    border: none;\n",
              "    border-radius: 50%;\n",
              "    cursor: pointer;\n",
              "    display: none;\n",
              "    fill: var(--fill-color);\n",
              "    height: 32px;\n",
              "    padding: 0;\n",
              "    width: 32px;\n",
              "  }\n",
              "\n",
              "  .colab-df-quickchart:hover {\n",
              "    background-color: var(--hover-bg-color);\n",
              "    box-shadow: 0 1px 2px rgba(60, 64, 67, 0.3), 0 1px 3px 1px rgba(60, 64, 67, 0.15);\n",
              "    fill: var(--button-hover-fill-color);\n",
              "  }\n",
              "\n",
              "  .colab-df-quickchart-complete:disabled,\n",
              "  .colab-df-quickchart-complete:disabled:hover {\n",
              "    background-color: var(--disabled-bg-color);\n",
              "    fill: var(--disabled-fill-color);\n",
              "    box-shadow: none;\n",
              "  }\n",
              "\n",
              "  .colab-df-spinner {\n",
              "    border: 2px solid var(--fill-color);\n",
              "    border-color: transparent;\n",
              "    border-bottom-color: var(--fill-color);\n",
              "    animation:\n",
              "      spin 1s steps(1) infinite;\n",
              "  }\n",
              "\n",
              "  @keyframes spin {\n",
              "    0% {\n",
              "      border-color: transparent;\n",
              "      border-bottom-color: var(--fill-color);\n",
              "      border-left-color: var(--fill-color);\n",
              "    }\n",
              "    20% {\n",
              "      border-color: transparent;\n",
              "      border-left-color: var(--fill-color);\n",
              "      border-top-color: var(--fill-color);\n",
              "    }\n",
              "    30% {\n",
              "      border-color: transparent;\n",
              "      border-left-color: var(--fill-color);\n",
              "      border-top-color: var(--fill-color);\n",
              "      border-right-color: var(--fill-color);\n",
              "    }\n",
              "    40% {\n",
              "      border-color: transparent;\n",
              "      border-right-color: var(--fill-color);\n",
              "      border-top-color: var(--fill-color);\n",
              "    }\n",
              "    60% {\n",
              "      border-color: transparent;\n",
              "      border-right-color: var(--fill-color);\n",
              "    }\n",
              "    80% {\n",
              "      border-color: transparent;\n",
              "      border-right-color: var(--fill-color);\n",
              "      border-bottom-color: var(--fill-color);\n",
              "    }\n",
              "    90% {\n",
              "      border-color: transparent;\n",
              "      border-bottom-color: var(--fill-color);\n",
              "    }\n",
              "  }\n",
              "</style>\n",
              "\n",
              "  <script>\n",
              "    async function quickchart(key) {\n",
              "      const quickchartButtonEl =\n",
              "        document.querySelector('#' + key + ' button');\n",
              "      quickchartButtonEl.disabled = true;  // To prevent multiple clicks.\n",
              "      quickchartButtonEl.classList.add('colab-df-spinner');\n",
              "      try {\n",
              "        const charts = await google.colab.kernel.invokeFunction(\n",
              "            'suggestCharts', [key], {});\n",
              "      } catch (error) {\n",
              "        console.error('Error during call to suggestCharts:', error);\n",
              "      }\n",
              "      quickchartButtonEl.classList.remove('colab-df-spinner');\n",
              "      quickchartButtonEl.classList.add('colab-df-quickchart-complete');\n",
              "    }\n",
              "    (() => {\n",
              "      let quickchartButtonEl =\n",
              "        document.querySelector('#df-87cbef4b-bf4b-4e10-b7ab-3c0f2ddfb7f9 button');\n",
              "      quickchartButtonEl.style.display =\n",
              "        google.colab.kernel.accessAllowed ? 'block' : 'none';\n",
              "    })();\n",
              "  </script>\n",
              "</div>\n",
              "\n",
              "  <div id=\"id_b0ead3a1-f9df-4b0e-92ec-b179cdae47a4\">\n",
              "    <style>\n",
              "      .colab-df-generate {\n",
              "        background-color: #E8F0FE;\n",
              "        border: none;\n",
              "        border-radius: 50%;\n",
              "        cursor: pointer;\n",
              "        display: none;\n",
              "        fill: #1967D2;\n",
              "        height: 32px;\n",
              "        padding: 0 0 0 0;\n",
              "        width: 32px;\n",
              "      }\n",
              "\n",
              "      .colab-df-generate:hover {\n",
              "        background-color: #E2EBFA;\n",
              "        box-shadow: 0px 1px 2px rgba(60, 64, 67, 0.3), 0px 1px 3px 1px rgba(60, 64, 67, 0.15);\n",
              "        fill: #174EA6;\n",
              "      }\n",
              "\n",
              "      [theme=dark] .colab-df-generate {\n",
              "        background-color: #3B4455;\n",
              "        fill: #D2E3FC;\n",
              "      }\n",
              "\n",
              "      [theme=dark] .colab-df-generate:hover {\n",
              "        background-color: #434B5C;\n",
              "        box-shadow: 0px 1px 3px 1px rgba(0, 0, 0, 0.15);\n",
              "        filter: drop-shadow(0px 1px 2px rgba(0, 0, 0, 0.3));\n",
              "        fill: #FFFFFF;\n",
              "      }\n",
              "    </style>\n",
              "    <button class=\"colab-df-generate\" onclick=\"generateWithVariable('df_duplicates')\"\n",
              "            title=\"Generate code using this dataframe.\"\n",
              "            style=\"display:none;\">\n",
              "\n",
              "  <svg xmlns=\"http://www.w3.org/2000/svg\" height=\"24px\"viewBox=\"0 0 24 24\"\n",
              "       width=\"24px\">\n",
              "    <path d=\"M7,19H8.4L18.45,9,17,7.55,7,17.6ZM5,21V16.75L18.45,3.32a2,2,0,0,1,2.83,0l1.4,1.43a1.91,1.91,0,0,1,.58,1.4,1.91,1.91,0,0,1-.58,1.4L9.25,21ZM18.45,9,17,7.55Zm-12,3A5.31,5.31,0,0,0,4.9,8.1,5.31,5.31,0,0,0,1,6.5,5.31,5.31,0,0,0,4.9,4.9,5.31,5.31,0,0,0,6.5,1,5.31,5.31,0,0,0,8.1,4.9,5.31,5.31,0,0,0,12,6.5,5.46,5.46,0,0,0,6.5,12Z\"/>\n",
              "  </svg>\n",
              "    </button>\n",
              "    <script>\n",
              "      (() => {\n",
              "      const buttonEl =\n",
              "        document.querySelector('#id_b0ead3a1-f9df-4b0e-92ec-b179cdae47a4 button.colab-df-generate');\n",
              "      buttonEl.style.display =\n",
              "        google.colab.kernel.accessAllowed ? 'block' : 'none';\n",
              "\n",
              "      buttonEl.onclick = () => {\n",
              "        google.colab.notebook.generateWithVariable('df_duplicates');\n",
              "      }\n",
              "      })();\n",
              "    </script>\n",
              "  </div>\n",
              "\n",
              "    </div>\n",
              "  </div>\n"
            ],
            "application/vnd.google.colaboratory.intrinsic+json": {
              "type": "dataframe",
              "variable_name": "df_duplicates"
            }
          },
          "metadata": {},
          "execution_count": 206
        }
      ]
    },
    {
      "cell_type": "code",
      "source": [
        "df.drop_duplicates(inplace = True)"
      ],
      "metadata": {
        "id": "0U8rR7R9NGoK"
      },
      "execution_count": 207,
      "outputs": []
    },
    {
      "cell_type": "code",
      "source": [
        "df.duplicated().sum()"
      ],
      "metadata": {
        "colab": {
          "base_uri": "https://localhost:8080/"
        },
        "id": "2oFQp9inNseE",
        "outputId": "e875cf96-9025-49b3-9cb4-fc7ecf037c29"
      },
      "execution_count": 208,
      "outputs": [
        {
          "output_type": "execute_result",
          "data": {
            "text/plain": [
              "0"
            ]
          },
          "metadata": {},
          "execution_count": 208
        }
      ]
    },
    {
      "cell_type": "markdown",
      "source": [
        "## Label Encoding Categorical Features"
      ],
      "metadata": {
        "id": "0NUh74yYPMhg"
      }
    },
    {
      "cell_type": "code",
      "source": [
        "#there are total 3 categorical features including the target variable namely proto, service and attack_type(target)"
      ],
      "metadata": {
        "id": "qtnBCGBuNvF0"
      },
      "execution_count": 209,
      "outputs": []
    },
    {
      "cell_type": "code",
      "source": [
        "le = LabelEncoder()\n",
        "df.Attack_type = le.fit_transform(df.Attack_type)\n",
        "df.proto = le.fit_transform(df.proto)\n",
        "df.service = le.fit_transform(df.service)"
      ],
      "metadata": {
        "id": "dl0WBBHOQOOC"
      },
      "execution_count": 210,
      "outputs": []
    },
    {
      "cell_type": "markdown",
      "source": [
        "## Normalization and Scaling"
      ],
      "metadata": {
        "id": "uxHE5GZKTijM"
      }
    },
    {
      "cell_type": "code",
      "source": [
        "X = df.drop(['Attack_type'], axis = 1)\n",
        "y = df['Attack_type']"
      ],
      "metadata": {
        "id": "ajO6ClDAOvZI"
      },
      "execution_count": 211,
      "outputs": []
    },
    {
      "cell_type": "code",
      "source": [
        "X_train, X_test, y_train, y_test = train_test_split(X, y, test_size = 0.3, random_state = 42)"
      ],
      "metadata": {
        "id": "fE9h3_jjOORm"
      },
      "execution_count": 212,
      "outputs": []
    },
    {
      "cell_type": "code",
      "source": [
        "scaler = RobustScaler()\n",
        "X_train_scaled = scaler.fit_transform(X_train)\n",
        "X_test_scaled = scaler.transform(X_test)"
      ],
      "metadata": {
        "id": "_eeJTOWdTosl"
      },
      "execution_count": 213,
      "outputs": []
    },
    {
      "cell_type": "markdown",
      "source": [
        "## ML Model Development and Evaluation without Feature Engineering\n"
      ],
      "metadata": {
        "id": "aFD0M1DjNEXD"
      }
    },
    {
      "cell_type": "code",
      "source": [
        "log_model = LogisticRegression()\n",
        "log_model.fit(X_train_scaled, y_train)"
      ],
      "metadata": {
        "colab": {
          "base_uri": "https://localhost:8080/",
          "height": 75
        },
        "id": "tVT2Qu46OWgf",
        "outputId": "154da8ae-e2e4-4e84-fa9f-b28c1e0ff498"
      },
      "execution_count": 214,
      "outputs": [
        {
          "output_type": "execute_result",
          "data": {
            "text/plain": [
              "LogisticRegression()"
            ],
            "text/html": [
              "<style>#sk-container-id-9 {color: black;background-color: white;}#sk-container-id-9 pre{padding: 0;}#sk-container-id-9 div.sk-toggleable {background-color: white;}#sk-container-id-9 label.sk-toggleable__label {cursor: pointer;display: block;width: 100%;margin-bottom: 0;padding: 0.3em;box-sizing: border-box;text-align: center;}#sk-container-id-9 label.sk-toggleable__label-arrow:before {content: \"▸\";float: left;margin-right: 0.25em;color: #696969;}#sk-container-id-9 label.sk-toggleable__label-arrow:hover:before {color: black;}#sk-container-id-9 div.sk-estimator:hover label.sk-toggleable__label-arrow:before {color: black;}#sk-container-id-9 div.sk-toggleable__content {max-height: 0;max-width: 0;overflow: hidden;text-align: left;background-color: #f0f8ff;}#sk-container-id-9 div.sk-toggleable__content pre {margin: 0.2em;color: black;border-radius: 0.25em;background-color: #f0f8ff;}#sk-container-id-9 input.sk-toggleable__control:checked~div.sk-toggleable__content {max-height: 200px;max-width: 100%;overflow: auto;}#sk-container-id-9 input.sk-toggleable__control:checked~label.sk-toggleable__label-arrow:before {content: \"▾\";}#sk-container-id-9 div.sk-estimator input.sk-toggleable__control:checked~label.sk-toggleable__label {background-color: #d4ebff;}#sk-container-id-9 div.sk-label input.sk-toggleable__control:checked~label.sk-toggleable__label {background-color: #d4ebff;}#sk-container-id-9 input.sk-hidden--visually {border: 0;clip: rect(1px 1px 1px 1px);clip: rect(1px, 1px, 1px, 1px);height: 1px;margin: -1px;overflow: hidden;padding: 0;position: absolute;width: 1px;}#sk-container-id-9 div.sk-estimator {font-family: monospace;background-color: #f0f8ff;border: 1px dotted black;border-radius: 0.25em;box-sizing: border-box;margin-bottom: 0.5em;}#sk-container-id-9 div.sk-estimator:hover {background-color: #d4ebff;}#sk-container-id-9 div.sk-parallel-item::after {content: \"\";width: 100%;border-bottom: 1px solid gray;flex-grow: 1;}#sk-container-id-9 div.sk-label:hover label.sk-toggleable__label {background-color: #d4ebff;}#sk-container-id-9 div.sk-serial::before {content: \"\";position: absolute;border-left: 1px solid gray;box-sizing: border-box;top: 0;bottom: 0;left: 50%;z-index: 0;}#sk-container-id-9 div.sk-serial {display: flex;flex-direction: column;align-items: center;background-color: white;padding-right: 0.2em;padding-left: 0.2em;position: relative;}#sk-container-id-9 div.sk-item {position: relative;z-index: 1;}#sk-container-id-9 div.sk-parallel {display: flex;align-items: stretch;justify-content: center;background-color: white;position: relative;}#sk-container-id-9 div.sk-item::before, #sk-container-id-9 div.sk-parallel-item::before {content: \"\";position: absolute;border-left: 1px solid gray;box-sizing: border-box;top: 0;bottom: 0;left: 50%;z-index: -1;}#sk-container-id-9 div.sk-parallel-item {display: flex;flex-direction: column;z-index: 1;position: relative;background-color: white;}#sk-container-id-9 div.sk-parallel-item:first-child::after {align-self: flex-end;width: 50%;}#sk-container-id-9 div.sk-parallel-item:last-child::after {align-self: flex-start;width: 50%;}#sk-container-id-9 div.sk-parallel-item:only-child::after {width: 0;}#sk-container-id-9 div.sk-dashed-wrapped {border: 1px dashed gray;margin: 0 0.4em 0.5em 0.4em;box-sizing: border-box;padding-bottom: 0.4em;background-color: white;}#sk-container-id-9 div.sk-label label {font-family: monospace;font-weight: bold;display: inline-block;line-height: 1.2em;}#sk-container-id-9 div.sk-label-container {text-align: center;}#sk-container-id-9 div.sk-container {/* jupyter's `normalize.less` sets `[hidden] { display: none; }` but bootstrap.min.css set `[hidden] { display: none !important; }` so we also need the `!important` here to be able to override the default hidden behavior on the sphinx rendered scikit-learn.org. See: https://github.com/scikit-learn/scikit-learn/issues/21755 */display: inline-block !important;position: relative;}#sk-container-id-9 div.sk-text-repr-fallback {display: none;}</style><div id=\"sk-container-id-9\" class=\"sk-top-container\"><div class=\"sk-text-repr-fallback\"><pre>LogisticRegression()</pre><b>In a Jupyter environment, please rerun this cell to show the HTML representation or trust the notebook. <br />On GitHub, the HTML representation is unable to render, please try loading this page with nbviewer.org.</b></div><div class=\"sk-container\" hidden><div class=\"sk-item\"><div class=\"sk-estimator sk-toggleable\"><input class=\"sk-toggleable__control sk-hidden--visually\" id=\"sk-estimator-id-9\" type=\"checkbox\" checked><label for=\"sk-estimator-id-9\" class=\"sk-toggleable__label sk-toggleable__label-arrow\">LogisticRegression</label><div class=\"sk-toggleable__content\"><pre>LogisticRegression()</pre></div></div></div></div></div>"
            ]
          },
          "metadata": {},
          "execution_count": 214
        }
      ]
    },
    {
      "cell_type": "code",
      "source": [
        "y_pred = log_model.predict(X_test_scaled)"
      ],
      "metadata": {
        "id": "TRLTIRikNDqz"
      },
      "execution_count": 215,
      "outputs": []
    },
    {
      "cell_type": "code",
      "source": [
        "accuracy = accuracy_score(y_test,y_pred)\n",
        "print('Accuracy =', accuracy)"
      ],
      "metadata": {
        "colab": {
          "base_uri": "https://localhost:8080/"
        },
        "id": "pZLbenqqQFKE",
        "outputId": "be951d3b-d346-4b64-dd17-0c8588f29d65"
      },
      "execution_count": 216,
      "outputs": [
        {
          "output_type": "stream",
          "name": "stdout",
          "text": [
            "Accuracy = 0.5037736382395341\n"
          ]
        }
      ]
    },
    {
      "cell_type": "code",
      "source": [
        "print(classification_report(y_test,y_pred))"
      ],
      "metadata": {
        "colab": {
          "base_uri": "https://localhost:8080/"
        },
        "id": "u5zWcgYAvkZf",
        "outputId": "843fb9f9-81fd-45c9-a58a-bf915a71a07b"
      },
      "execution_count": 233,
      "outputs": [
        {
          "output_type": "stream",
          "name": "stdout",
          "text": [
            "              precision    recall  f1-score   support\n",
            "\n",
            "           0       0.88      0.16      0.26      2285\n",
            "           1       0.02      0.43      0.05       158\n",
            "           2       1.00      0.49      0.66     27077\n",
            "           3       0.98      0.94      0.96      1263\n",
            "           4       0.00      0.00      0.00        12\n",
            "           5       0.00      0.00      0.00         8\n",
            "           6       0.00      0.00      0.00       577\n",
            "           7       0.00      0.00      0.00       309\n",
            "           8       0.35      0.91      0.50       760\n",
            "           9       0.00      0.00      0.00       579\n",
            "          10       0.14      0.98      0.25      2287\n",
            "          11       0.13      0.05      0.07        62\n",
            "\n",
            "    accuracy                           0.50     35377\n",
            "   macro avg       0.29      0.33      0.23     35377\n",
            "weighted avg       0.87      0.50      0.58     35377\n",
            "\n"
          ]
        }
      ]
    },
    {
      "cell_type": "markdown",
      "source": [
        "Results:\n",
        "\n",
        "  Accuracy: ~50.37%\n",
        "  \n",
        "  Model struggles with imbalanced classes."
      ],
      "metadata": {
        "id": "CVxb8ItIxVvj"
      }
    },
    {
      "cell_type": "markdown",
      "source": [
        "### KNN"
      ],
      "metadata": {
        "id": "wHrTKhxBilji"
      }
    },
    {
      "cell_type": "code",
      "source": [
        "knn_model = KNeighborsClassifier(n_neighbors=5)\n",
        "knn_model.fit(X_train_scaled,y_train)\n",
        "y_pred_knn = knn_model.predict(X_test_scaled)\n",
        "accuracy = accuracy_score(y_test, y_pred_knn)\n",
        "print('Accuracy =', accuracy)"
      ],
      "metadata": {
        "colab": {
          "base_uri": "https://localhost:8080/"
        },
        "id": "sSdmJISdilMb",
        "outputId": "125ecf40-9bd8-4158-911c-fa59e7ec6458"
      },
      "execution_count": 217,
      "outputs": [
        {
          "output_type": "stream",
          "name": "stdout",
          "text": [
            "Accuracy = 0.9754360177516466\n"
          ]
        }
      ]
    },
    {
      "cell_type": "code",
      "source": [
        "print(classification_report(y_test,y_pred_knn))"
      ],
      "metadata": {
        "colab": {
          "base_uri": "https://localhost:8080/"
        },
        "id": "BF5ehCh6vuxm",
        "outputId": "b6311d42-cbd8-446d-809e-e9ad4e9c1ccb"
      },
      "execution_count": 234,
      "outputs": [
        {
          "output_type": "stream",
          "name": "stdout",
          "text": [
            "              precision    recall  f1-score   support\n",
            "\n",
            "           0       0.94      0.94      0.94      2285\n",
            "           1       0.88      0.92      0.90       158\n",
            "           2       1.00      1.00      1.00     27077\n",
            "           3       0.99      0.99      0.99      1263\n",
            "           4       0.64      0.75      0.69        12\n",
            "           5       1.00      0.75      0.86         8\n",
            "           6       0.52      0.52      0.52       577\n",
            "           7       1.00      1.00      1.00       309\n",
            "           8       0.98      0.96      0.97       760\n",
            "           9       0.53      0.54      0.53       579\n",
            "          10       0.94      0.95      0.95      2287\n",
            "          11       0.75      0.44      0.55        62\n",
            "\n",
            "    accuracy                           0.98     35377\n",
            "   macro avg       0.85      0.81      0.83     35377\n",
            "weighted avg       0.98      0.98      0.98     35377\n",
            "\n"
          ]
        }
      ]
    },
    {
      "cell_type": "markdown",
      "source": [
        "Results:\n",
        "\n",
        "  Accuracy: ~97.54%\n",
        "  \n",
        "  KNN performs significantly better, handling imbalances well."
      ],
      "metadata": {
        "id": "QTk2BGPtxgkM"
      }
    },
    {
      "cell_type": "markdown",
      "source": [
        "## With Feature Engineering"
      ],
      "metadata": {
        "id": "gV5rZMFdU4NY"
      }
    },
    {
      "cell_type": "code",
      "source": [
        "df['Attack_type'].value_counts()"
      ],
      "metadata": {
        "id": "HL2c_cCTUnKX",
        "colab": {
          "base_uri": "https://localhost:8080/"
        },
        "outputId": "084afa1c-57c0-4555-ca75-b50a81671ac5"
      },
      "execution_count": 218,
      "outputs": [
        {
          "output_type": "execute_result",
          "data": {
            "text/plain": [
              "Attack_type\n",
              "2     90089\n",
              "10     7654\n",
              "0      7625\n",
              "3      4142\n",
              "8      2584\n",
              "9      2010\n",
              "6      2000\n",
              "7      1002\n",
              "1       533\n",
              "11      219\n",
              "4        36\n",
              "5        28\n",
              "Name: count, dtype: int64"
            ]
          },
          "metadata": {},
          "execution_count": 218
        }
      ]
    },
    {
      "cell_type": "markdown",
      "source": [
        "We can see a clear imbalance in class distribution within the data. Lets handle that."
      ],
      "metadata": {
        "id": "T9twy4keQ8a_"
      }
    },
    {
      "cell_type": "markdown",
      "source": [
        "### SMOTE"
      ],
      "metadata": {
        "id": "GkDZIQ6lZq4P"
      }
    },
    {
      "cell_type": "code",
      "source": [
        "smote = SMOTE(sampling_strategy='auto', k_neighbors=5, random_state=42)\n",
        "X_smote, y_smote = smote.fit_resample(X,y)\n",
        "print('Original dataset shape', len(df))\n",
        "print('Resampled dataset shape', len(y_smote))"
      ],
      "metadata": {
        "colab": {
          "base_uri": "https://localhost:8080/"
        },
        "id": "n8s87avZQ4uG",
        "outputId": "512c6bac-cde3-4f0d-ac37-3d197be9826a"
      },
      "execution_count": 219,
      "outputs": [
        {
          "output_type": "stream",
          "name": "stdout",
          "text": [
            "Original dataset shape 117922\n",
            "Resampled dataset shape 1081068\n"
          ]
        }
      ]
    },
    {
      "cell_type": "code",
      "source": [
        "X1_train, X1_test, y1_train, y1_test = train_test_split(X_smote, y_smote, test_size = 0.3, random_state = 42)"
      ],
      "metadata": {
        "id": "pl9X9A4hV3Cl"
      },
      "execution_count": 220,
      "outputs": []
    },
    {
      "cell_type": "code",
      "source": [
        "X1_train_scaled = scaler.fit_transform(X1_train)\n",
        "X1_test_scaled = scaler.transform(X1_test)"
      ],
      "metadata": {
        "id": "ccDaTWRBSCX5"
      },
      "execution_count": 221,
      "outputs": []
    },
    {
      "cell_type": "code",
      "source": [
        "log_model = LogisticRegression()\n",
        "log_model.fit(X1_train_scaled, y1_train)"
      ],
      "metadata": {
        "colab": {
          "base_uri": "https://localhost:8080/",
          "height": 75
        },
        "id": "1cLEPvJ7WD5t",
        "outputId": "6e558fef-aa1d-4933-ef87-8332cb6af1a6"
      },
      "execution_count": 222,
      "outputs": [
        {
          "output_type": "execute_result",
          "data": {
            "text/plain": [
              "LogisticRegression()"
            ],
            "text/html": [
              "<style>#sk-container-id-10 {color: black;background-color: white;}#sk-container-id-10 pre{padding: 0;}#sk-container-id-10 div.sk-toggleable {background-color: white;}#sk-container-id-10 label.sk-toggleable__label {cursor: pointer;display: block;width: 100%;margin-bottom: 0;padding: 0.3em;box-sizing: border-box;text-align: center;}#sk-container-id-10 label.sk-toggleable__label-arrow:before {content: \"▸\";float: left;margin-right: 0.25em;color: #696969;}#sk-container-id-10 label.sk-toggleable__label-arrow:hover:before {color: black;}#sk-container-id-10 div.sk-estimator:hover label.sk-toggleable__label-arrow:before {color: black;}#sk-container-id-10 div.sk-toggleable__content {max-height: 0;max-width: 0;overflow: hidden;text-align: left;background-color: #f0f8ff;}#sk-container-id-10 div.sk-toggleable__content pre {margin: 0.2em;color: black;border-radius: 0.25em;background-color: #f0f8ff;}#sk-container-id-10 input.sk-toggleable__control:checked~div.sk-toggleable__content {max-height: 200px;max-width: 100%;overflow: auto;}#sk-container-id-10 input.sk-toggleable__control:checked~label.sk-toggleable__label-arrow:before {content: \"▾\";}#sk-container-id-10 div.sk-estimator input.sk-toggleable__control:checked~label.sk-toggleable__label {background-color: #d4ebff;}#sk-container-id-10 div.sk-label input.sk-toggleable__control:checked~label.sk-toggleable__label {background-color: #d4ebff;}#sk-container-id-10 input.sk-hidden--visually {border: 0;clip: rect(1px 1px 1px 1px);clip: rect(1px, 1px, 1px, 1px);height: 1px;margin: -1px;overflow: hidden;padding: 0;position: absolute;width: 1px;}#sk-container-id-10 div.sk-estimator {font-family: monospace;background-color: #f0f8ff;border: 1px dotted black;border-radius: 0.25em;box-sizing: border-box;margin-bottom: 0.5em;}#sk-container-id-10 div.sk-estimator:hover {background-color: #d4ebff;}#sk-container-id-10 div.sk-parallel-item::after {content: \"\";width: 100%;border-bottom: 1px solid gray;flex-grow: 1;}#sk-container-id-10 div.sk-label:hover label.sk-toggleable__label {background-color: #d4ebff;}#sk-container-id-10 div.sk-serial::before {content: \"\";position: absolute;border-left: 1px solid gray;box-sizing: border-box;top: 0;bottom: 0;left: 50%;z-index: 0;}#sk-container-id-10 div.sk-serial {display: flex;flex-direction: column;align-items: center;background-color: white;padding-right: 0.2em;padding-left: 0.2em;position: relative;}#sk-container-id-10 div.sk-item {position: relative;z-index: 1;}#sk-container-id-10 div.sk-parallel {display: flex;align-items: stretch;justify-content: center;background-color: white;position: relative;}#sk-container-id-10 div.sk-item::before, #sk-container-id-10 div.sk-parallel-item::before {content: \"\";position: absolute;border-left: 1px solid gray;box-sizing: border-box;top: 0;bottom: 0;left: 50%;z-index: -1;}#sk-container-id-10 div.sk-parallel-item {display: flex;flex-direction: column;z-index: 1;position: relative;background-color: white;}#sk-container-id-10 div.sk-parallel-item:first-child::after {align-self: flex-end;width: 50%;}#sk-container-id-10 div.sk-parallel-item:last-child::after {align-self: flex-start;width: 50%;}#sk-container-id-10 div.sk-parallel-item:only-child::after {width: 0;}#sk-container-id-10 div.sk-dashed-wrapped {border: 1px dashed gray;margin: 0 0.4em 0.5em 0.4em;box-sizing: border-box;padding-bottom: 0.4em;background-color: white;}#sk-container-id-10 div.sk-label label {font-family: monospace;font-weight: bold;display: inline-block;line-height: 1.2em;}#sk-container-id-10 div.sk-label-container {text-align: center;}#sk-container-id-10 div.sk-container {/* jupyter's `normalize.less` sets `[hidden] { display: none; }` but bootstrap.min.css set `[hidden] { display: none !important; }` so we also need the `!important` here to be able to override the default hidden behavior on the sphinx rendered scikit-learn.org. See: https://github.com/scikit-learn/scikit-learn/issues/21755 */display: inline-block !important;position: relative;}#sk-container-id-10 div.sk-text-repr-fallback {display: none;}</style><div id=\"sk-container-id-10\" class=\"sk-top-container\"><div class=\"sk-text-repr-fallback\"><pre>LogisticRegression()</pre><b>In a Jupyter environment, please rerun this cell to show the HTML representation or trust the notebook. <br />On GitHub, the HTML representation is unable to render, please try loading this page with nbviewer.org.</b></div><div class=\"sk-container\" hidden><div class=\"sk-item\"><div class=\"sk-estimator sk-toggleable\"><input class=\"sk-toggleable__control sk-hidden--visually\" id=\"sk-estimator-id-10\" type=\"checkbox\" checked><label for=\"sk-estimator-id-10\" class=\"sk-toggleable__label sk-toggleable__label-arrow\">LogisticRegression</label><div class=\"sk-toggleable__content\"><pre>LogisticRegression()</pre></div></div></div></div></div>"
            ]
          },
          "metadata": {},
          "execution_count": 222
        }
      ]
    },
    {
      "cell_type": "code",
      "source": [
        "y1_pred = log_model.predict(X1_test_scaled)"
      ],
      "metadata": {
        "id": "rVrg9T4cWbwu"
      },
      "execution_count": 223,
      "outputs": []
    },
    {
      "cell_type": "code",
      "source": [
        "accuracy = accuracy_score(y1_test,y1_pred)\n",
        "print('Accuracy =', accuracy)"
      ],
      "metadata": {
        "colab": {
          "base_uri": "https://localhost:8080/"
        },
        "id": "si-IvBJ4W7-A",
        "outputId": "45d2bae8-f3c0-41aa-9290-5b04afbcc9fc"
      },
      "execution_count": 224,
      "outputs": [
        {
          "output_type": "stream",
          "name": "stdout",
          "text": [
            "Accuracy = 0.34728247631204884\n"
          ]
        }
      ]
    },
    {
      "cell_type": "code",
      "source": [
        "print(classification_report(y1_test,y1_pred))"
      ],
      "metadata": {
        "colab": {
          "base_uri": "https://localhost:8080/"
        },
        "id": "77HEWcqiv2M2",
        "outputId": "577f3034-1c0c-4c6a-c819-1726041144cc"
      },
      "execution_count": 235,
      "outputs": [
        {
          "output_type": "stream",
          "name": "stdout",
          "text": [
            "              precision    recall  f1-score   support\n",
            "\n",
            "           0       0.43      0.37      0.40     27249\n",
            "           1       0.75      0.45      0.56     27009\n",
            "           2       0.26      0.88      0.40     26713\n",
            "           3       0.37      0.95      0.53     27089\n",
            "           4       0.04      0.03      0.04     27174\n",
            "           5       0.00      0.00      0.00     26938\n",
            "           6       0.00      0.00      0.00     27135\n",
            "           7       0.43      1.00      0.60     27216\n",
            "           8       0.11      0.02      0.03     26999\n",
            "           9       0.00      0.00      0.00     26918\n",
            "          10       0.72      0.07      0.14     27107\n",
            "          11       0.35      0.40      0.37     26774\n",
            "\n",
            "    accuracy                           0.35    324321\n",
            "   macro avg       0.29      0.35      0.26    324321\n",
            "weighted avg       0.29      0.35      0.26    324321\n",
            "\n"
          ]
        }
      ]
    },
    {
      "cell_type": "markdown",
      "source": [
        "Results:\n",
        "\n",
        "  Accuracy: ~34.73%\n",
        "  \n",
        "  SMOTE improves recall for minority classes but overall accuracy decreases."
      ],
      "metadata": {
        "id": "lzCT2TvIxnDE"
      }
    },
    {
      "cell_type": "markdown",
      "source": [
        "### TOMEK LINKS"
      ],
      "metadata": {
        "id": "qBErvxh8Zu6v"
      }
    },
    {
      "cell_type": "code",
      "source": [
        "tl = TomekLinks(sampling_strategy='majority')\n",
        "X_tl, y_tl = tl.fit_resample(X,y)\n",
        "print('Original dataset shape', len(df))\n",
        "print('Resampled dataset shape', len(y_tl))"
      ],
      "metadata": {
        "colab": {
          "base_uri": "https://localhost:8080/"
        },
        "id": "BuUj5CpyXG5g",
        "outputId": "beaaae3f-1224-429c-d7cb-8efda3735dfb"
      },
      "execution_count": 225,
      "outputs": [
        {
          "output_type": "stream",
          "name": "stdout",
          "text": [
            "Original dataset shape 117922\n",
            "Resampled dataset shape 117921\n"
          ]
        }
      ]
    },
    {
      "cell_type": "code",
      "source": [
        "X2_train, X2_test, y2_train, y2_test = train_test_split(X_tl, y_tl, test_size = 0.3, random_state = 42)"
      ],
      "metadata": {
        "id": "bpCH0PSRbBRL"
      },
      "execution_count": 239,
      "outputs": []
    },
    {
      "cell_type": "code",
      "source": [
        "X2_train_scaled = scaler.fit_transform(X2_train)\n",
        "X2_test_scaled = scaler.transform(X2_test)"
      ],
      "metadata": {
        "id": "reUXWZIVbXjU"
      },
      "execution_count": 240,
      "outputs": []
    },
    {
      "cell_type": "code",
      "source": [
        "log_model = LogisticRegression()\n",
        "log_model.fit(X2_train_scaled, y2_train)"
      ],
      "metadata": {
        "colab": {
          "base_uri": "https://localhost:8080/",
          "height": 75
        },
        "id": "DyE9xieyblT8",
        "outputId": "250d5003-c4ac-45ec-8cdd-735e0d309070"
      },
      "execution_count": 241,
      "outputs": [
        {
          "output_type": "execute_result",
          "data": {
            "text/plain": [
              "LogisticRegression()"
            ],
            "text/html": [
              "<style>#sk-container-id-12 {color: black;background-color: white;}#sk-container-id-12 pre{padding: 0;}#sk-container-id-12 div.sk-toggleable {background-color: white;}#sk-container-id-12 label.sk-toggleable__label {cursor: pointer;display: block;width: 100%;margin-bottom: 0;padding: 0.3em;box-sizing: border-box;text-align: center;}#sk-container-id-12 label.sk-toggleable__label-arrow:before {content: \"▸\";float: left;margin-right: 0.25em;color: #696969;}#sk-container-id-12 label.sk-toggleable__label-arrow:hover:before {color: black;}#sk-container-id-12 div.sk-estimator:hover label.sk-toggleable__label-arrow:before {color: black;}#sk-container-id-12 div.sk-toggleable__content {max-height: 0;max-width: 0;overflow: hidden;text-align: left;background-color: #f0f8ff;}#sk-container-id-12 div.sk-toggleable__content pre {margin: 0.2em;color: black;border-radius: 0.25em;background-color: #f0f8ff;}#sk-container-id-12 input.sk-toggleable__control:checked~div.sk-toggleable__content {max-height: 200px;max-width: 100%;overflow: auto;}#sk-container-id-12 input.sk-toggleable__control:checked~label.sk-toggleable__label-arrow:before {content: \"▾\";}#sk-container-id-12 div.sk-estimator input.sk-toggleable__control:checked~label.sk-toggleable__label {background-color: #d4ebff;}#sk-container-id-12 div.sk-label input.sk-toggleable__control:checked~label.sk-toggleable__label {background-color: #d4ebff;}#sk-container-id-12 input.sk-hidden--visually {border: 0;clip: rect(1px 1px 1px 1px);clip: rect(1px, 1px, 1px, 1px);height: 1px;margin: -1px;overflow: hidden;padding: 0;position: absolute;width: 1px;}#sk-container-id-12 div.sk-estimator {font-family: monospace;background-color: #f0f8ff;border: 1px dotted black;border-radius: 0.25em;box-sizing: border-box;margin-bottom: 0.5em;}#sk-container-id-12 div.sk-estimator:hover {background-color: #d4ebff;}#sk-container-id-12 div.sk-parallel-item::after {content: \"\";width: 100%;border-bottom: 1px solid gray;flex-grow: 1;}#sk-container-id-12 div.sk-label:hover label.sk-toggleable__label {background-color: #d4ebff;}#sk-container-id-12 div.sk-serial::before {content: \"\";position: absolute;border-left: 1px solid gray;box-sizing: border-box;top: 0;bottom: 0;left: 50%;z-index: 0;}#sk-container-id-12 div.sk-serial {display: flex;flex-direction: column;align-items: center;background-color: white;padding-right: 0.2em;padding-left: 0.2em;position: relative;}#sk-container-id-12 div.sk-item {position: relative;z-index: 1;}#sk-container-id-12 div.sk-parallel {display: flex;align-items: stretch;justify-content: center;background-color: white;position: relative;}#sk-container-id-12 div.sk-item::before, #sk-container-id-12 div.sk-parallel-item::before {content: \"\";position: absolute;border-left: 1px solid gray;box-sizing: border-box;top: 0;bottom: 0;left: 50%;z-index: -1;}#sk-container-id-12 div.sk-parallel-item {display: flex;flex-direction: column;z-index: 1;position: relative;background-color: white;}#sk-container-id-12 div.sk-parallel-item:first-child::after {align-self: flex-end;width: 50%;}#sk-container-id-12 div.sk-parallel-item:last-child::after {align-self: flex-start;width: 50%;}#sk-container-id-12 div.sk-parallel-item:only-child::after {width: 0;}#sk-container-id-12 div.sk-dashed-wrapped {border: 1px dashed gray;margin: 0 0.4em 0.5em 0.4em;box-sizing: border-box;padding-bottom: 0.4em;background-color: white;}#sk-container-id-12 div.sk-label label {font-family: monospace;font-weight: bold;display: inline-block;line-height: 1.2em;}#sk-container-id-12 div.sk-label-container {text-align: center;}#sk-container-id-12 div.sk-container {/* jupyter's `normalize.less` sets `[hidden] { display: none; }` but bootstrap.min.css set `[hidden] { display: none !important; }` so we also need the `!important` here to be able to override the default hidden behavior on the sphinx rendered scikit-learn.org. See: https://github.com/scikit-learn/scikit-learn/issues/21755 */display: inline-block !important;position: relative;}#sk-container-id-12 div.sk-text-repr-fallback {display: none;}</style><div id=\"sk-container-id-12\" class=\"sk-top-container\"><div class=\"sk-text-repr-fallback\"><pre>LogisticRegression()</pre><b>In a Jupyter environment, please rerun this cell to show the HTML representation or trust the notebook. <br />On GitHub, the HTML representation is unable to render, please try loading this page with nbviewer.org.</b></div><div class=\"sk-container\" hidden><div class=\"sk-item\"><div class=\"sk-estimator sk-toggleable\"><input class=\"sk-toggleable__control sk-hidden--visually\" id=\"sk-estimator-id-12\" type=\"checkbox\" checked><label for=\"sk-estimator-id-12\" class=\"sk-toggleable__label sk-toggleable__label-arrow\">LogisticRegression</label><div class=\"sk-toggleable__content\"><pre>LogisticRegression()</pre></div></div></div></div></div>"
            ]
          },
          "metadata": {},
          "execution_count": 241
        }
      ]
    },
    {
      "cell_type": "code",
      "source": [
        "y2_pred = log_model.predict(X2_test_scaled)"
      ],
      "metadata": {
        "id": "78yUyP1abu21"
      },
      "execution_count": 242,
      "outputs": []
    },
    {
      "cell_type": "code",
      "source": [
        "accuracy = accuracy_score(y2_test, y2_pred)\n",
        "print('Accuracy =', accuracy)"
      ],
      "metadata": {
        "colab": {
          "base_uri": "https://localhost:8080/"
        },
        "id": "Q3VjM4qBcePW",
        "outputId": "ecba024b-3e6c-427f-8513-aa9aedc078ae"
      },
      "execution_count": 243,
      "outputs": [
        {
          "output_type": "stream",
          "name": "stdout",
          "text": [
            "Accuracy = 0.5763631738134947\n"
          ]
        }
      ]
    },
    {
      "cell_type": "code",
      "source": [
        "print(classification_report(y2_test,y2_pred))"
      ],
      "metadata": {
        "colab": {
          "base_uri": "https://localhost:8080/"
        },
        "id": "MDuIJIyov6wH",
        "outputId": "91a66892-7987-4e36-ae9e-fc506b7fbb9e"
      },
      "execution_count": 244,
      "outputs": [
        {
          "output_type": "stream",
          "name": "stdout",
          "text": [
            "              precision    recall  f1-score   support\n",
            "\n",
            "           0       0.83      0.16      0.26      2285\n",
            "           1       0.92      0.22      0.36       158\n",
            "           2       1.00      0.59      0.74     27060\n",
            "           3       0.97      0.94      0.96      1263\n",
            "           4       0.00      0.00      0.00        10\n",
            "           5       0.00      0.00      0.00         5\n",
            "           6       0.00      0.00      0.00       574\n",
            "           7       0.00      0.00      0.00       330\n",
            "           8       0.35      0.91      0.51       774\n",
            "           9       0.00      0.00      0.00       569\n",
            "          10       0.14      0.98      0.25      2287\n",
            "          11       0.22      0.08      0.12        62\n",
            "\n",
            "    accuracy                           0.58     35377\n",
            "   macro avg       0.37      0.32      0.27     35377\n",
            "weighted avg       0.87      0.58      0.65     35377\n",
            "\n"
          ]
        }
      ]
    },
    {
      "cell_type": "markdown",
      "source": [
        "Results:\n",
        "\n",
        "  Accuracy: ~57.64%\n",
        "\n",
        "  Tomek Links maintains class balance without a significant drop in accuracy."
      ],
      "metadata": {
        "id": "_jrpx0zGxt78"
      }
    },
    {
      "cell_type": "markdown",
      "source": [
        "### with Validation"
      ],
      "metadata": {
        "id": "7KGXb5z3eavs"
      }
    },
    {
      "cell_type": "code",
      "source": [
        "log_model = LogisticRegression( penalty='l2')\n",
        "\n",
        "k_fold = KFold(n_splits=5, shuffle=True, random_state=42)\n",
        "cv_scores = cross_val_score(log_model, X2_train_scaled, y2_train, cv=k_fold, scoring='accuracy')\n",
        "\n",
        "avg_score = np.mean(cv_scores)\n",
        "\n",
        "print(\"Cross-validation scores on training set:\", cv_scores)\n",
        "print(\"Average Score on training set:\", avg_score)\n",
        "\n",
        "log_model.fit(X2_train_scaled, y2_train)\n",
        "test_score = log_model.score(X2_test_scaled, y2_test)\n",
        "print(\"Test set accuracy:\", test_score)"
      ],
      "metadata": {
        "colab": {
          "base_uri": "https://localhost:8080/"
        },
        "id": "2B4zwCHXcpBP",
        "outputId": "867dbde7-6103-472d-e504-90a0217619f3"
      },
      "execution_count": 231,
      "outputs": [
        {
          "output_type": "stream",
          "name": "stdout",
          "text": [
            "Cross-validation scores on training set: [0.57405052 0.58022897 0.57913865 0.20612999 0.57729586]\n",
            "Average Score on training set: 0.5033687963638809\n",
            "Test set accuracy: 0.5763631738134947\n"
          ]
        }
      ]
    },
    {
      "cell_type": "markdown",
      "source": [
        "Results:\n",
        "\n",
        "  Cross-validation scores show variation, with an average around 50.33%.\n",
        "  \n",
        "  Test set accuracy consistent at ~57.64%."
      ],
      "metadata": {
        "id": "Z9qWlqojxx-U"
      }
    },
    {
      "cell_type": "markdown",
      "source": [
        "### KNN"
      ],
      "metadata": {
        "id": "_YYvrMNggvPU"
      }
    },
    {
      "cell_type": "code",
      "source": [
        "from sklearn.neighbors import KNeighborsClassifier\n",
        "knn_model = KNeighborsClassifier(n_neighbors=5)\n",
        "knn_model.fit(X2_train_scaled,y2_train)\n",
        "y2_pred_knn = knn_model.predict(X2_test_scaled)\n",
        "accuracy = accuracy_score(y2_test, y2_pred_knn)\n",
        "print('Accuracy =', accuracy)"
      ],
      "metadata": {
        "colab": {
          "base_uri": "https://localhost:8080/"
        },
        "id": "WPma4lohgGZC",
        "outputId": "e64870c0-5759-40a4-c8c0-ae1c1176b83e"
      },
      "execution_count": 237,
      "outputs": [
        {
          "output_type": "stream",
          "name": "stdout",
          "text": [
            "Accuracy = 0.9753794838454363\n"
          ]
        }
      ]
    },
    {
      "cell_type": "code",
      "source": [
        "print(classification_report(y2_test,y2_pred_knn))"
      ],
      "metadata": {
        "colab": {
          "base_uri": "https://localhost:8080/"
        },
        "id": "PomZkTEXwMJR",
        "outputId": "94ba888b-129a-44de-c8d9-87250a1fb69d"
      },
      "execution_count": 238,
      "outputs": [
        {
          "output_type": "stream",
          "name": "stdout",
          "text": [
            "              precision    recall  f1-score   support\n",
            "\n",
            "           0       0.94      0.94      0.94      2285\n",
            "           1       0.85      0.92      0.88       158\n",
            "           2       1.00      1.00      1.00     27060\n",
            "           3       0.99      0.99      0.99      1263\n",
            "           4       0.62      0.80      0.70        10\n",
            "           5       1.00      0.80      0.89         5\n",
            "           6       0.53      0.51      0.52       574\n",
            "           7       0.99      1.00      0.99       330\n",
            "           8       0.98      0.96      0.97       774\n",
            "           9       0.52      0.54      0.53       569\n",
            "          10       0.94      0.95      0.95      2287\n",
            "          11       0.75      0.44      0.55        62\n",
            "\n",
            "    accuracy                           0.98     35377\n",
            "   macro avg       0.84      0.82      0.83     35377\n",
            "weighted avg       0.98      0.98      0.98     35377\n",
            "\n"
          ]
        }
      ]
    },
    {
      "cell_type": "markdown",
      "source": [
        "Results:\n",
        "\n",
        "  Accuracy: ~97.54%\n",
        "\n",
        "  KNN maintains high performance with Tomek Links."
      ],
      "metadata": {
        "id": "Qn59Biqvx3pc"
      }
    },
    {
      "cell_type": "markdown",
      "source": [
        "**Conclusion**\n",
        "\n",
        "  **KNN** is **highly effective** for this dataset, consistently achieving **high accuracy**.\n",
        "\n",
        "  **Logistic Regression** struggles with **imbalanced data**, but methods like **SMOTE** and **Tomek Links** help **improve performance**.\n",
        "\n",
        "  **Feature engineering **and **data balancing techniques** are **crucial** for building robust IDS models in IoT networks.\n",
        "\n",
        "**Next steps** could involve exploring more sophisticated models like **Random Forests**, **Gradient Boosting**, or **Deep Learning techniques** to further enhance detection accuracy."
      ],
      "metadata": {
        "id": "2ZwGlPQoyBsF"
      }
    },
    {
      "cell_type": "code",
      "source": [],
      "metadata": {
        "id": "XN4wMDO3x3dM"
      },
      "execution_count": null,
      "outputs": []
    }
  ]
}